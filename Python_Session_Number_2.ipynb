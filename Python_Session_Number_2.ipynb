{
  "cells": [
    {
      "cell_type": "markdown",
      "metadata": {
        "id": "view-in-github",
        "colab_type": "text"
      },
      "source": [
        "<a href=\"https://colab.research.google.com/github/kunal-geeks/kunal-geeks/blob/main/Python_Session_Number_2.ipynb\" target=\"_parent\"><img src=\"https://colab.research.google.com/assets/colab-badge.svg\" alt=\"Open In Colab\"/></a>"
      ]
    },
    {
      "cell_type": "markdown",
      "metadata": {
        "id": "DhVbf47WrW0d"
      },
      "source": [
        "# TOPICS TO BE COVERED:"
      ]
    },
    {
      "cell_type": "markdown",
      "metadata": {
        "id": "qOHtfmc3rW0s"
      },
      "source": [
        "\n",
        "* Functions- scope global and local\n",
        "\n",
        "* Args and Kwargs\n",
        "\n",
        "* Lambda Functions\n",
        "\n",
        "* Map() and filter()\n",
        "\n",
        "* Try and Except - catch, else\n",
        "\n",
        "* Python File Handling - with , open, write etc"
      ]
    },
    {
      "cell_type": "markdown",
      "metadata": {
        "id": "1r9-MmwDrW0t"
      },
      "source": [
        "# What is a function in Python?\n",
        "In Python, a function is a group of related statements that performs a specific task.\n",
        "\n",
        "Functions help break our program into smaller and **modular chunks**. As our program grows larger and larger, functions make it more organized and manageable.\n",
        "\n",
        "Furthermore, it avoids repetition and makes the code reusable."
      ]
    },
    {
      "cell_type": "markdown",
      "metadata": {
        "id": "ZGyHEPebrW0u"
      },
      "source": [
        "### SYNTAX\n",
        "def function_name(parameters):\n",
        "\n",
        "\t\"\"\"docstring\"\"\"\n",
        "\n",
        "    statement(s)"
      ]
    },
    {
      "cell_type": "code",
      "execution_count": null,
      "metadata": {
        "id": "KqJHAsaMrW0w",
        "outputId": "afe0cd7d-3e16-4030-f5c1-d4889a29e8b9"
      },
      "outputs": [
        {
          "name": "stdout",
          "output_type": "stream",
          "text": [
            "Welcome to growth School classses\n"
          ]
        }
      ],
      "source": [
        "# Calling a function\n",
        "\n",
        "def fun():\n",
        "    print(\"Welcome to growth School classses\")\n",
        " \n",
        " \n",
        "# Driver code to call a function\n",
        "fun()"
      ]
    },
    {
      "cell_type": "markdown",
      "metadata": {
        "id": "lmcgO_4PrW01"
      },
      "source": [
        "### RETURN STATEMENT\n",
        "\n",
        "The return statement is used to exit a function and go back to the place from where it was called.\n",
        "\n"
      ]
    },
    {
      "cell_type": "markdown",
      "metadata": {
        "id": "nqE10PqVrW03"
      },
      "source": [
        "### Scope and Lifetime of variables\n",
        "\n",
        "Scope of a variable is the portion of a program where the variable is recognized. Parameters and variables defined inside a function are not visible from outside the function. Hence, they have a local scope."
      ]
    },
    {
      "cell_type": "code",
      "execution_count": null,
      "metadata": {
        "id": "XZxJo7-RrW05",
        "outputId": "911bc83f-0465-445d-8a95-6fb2e94228d4"
      },
      "outputs": [
        {
          "name": "stdout",
          "output_type": "stream",
          "text": [
            "Me too.\n",
            "I love Geeksforgeeks\n"
          ]
        }
      ],
      "source": [
        "def f(): \n",
        "    #local scope\n",
        "    s = \"Me too.\"\n",
        "    print(s)\n",
        "   \n",
        "# Global scope\n",
        "s = \"I love Geeksforgeeks\"\n",
        "f()\n",
        "print(s)"
      ]
    },
    {
      "cell_type": "markdown",
      "metadata": {
        "id": "8wNojpzCrW09"
      },
      "source": [
        "### Types of Functions\n",
        "Basically, we can divide functions into the following two types:\n",
        "\n",
        "**Built-in** functions - Functions that are built into Python.\n",
        "\n",
        "**User-defined** functions - Functions defined by the users themselves."
      ]
    },
    {
      "cell_type": "markdown",
      "metadata": {
        "id": "0jofzZSjrW0_"
      },
      "source": [
        "## Arguements\n",
        "\n"
      ]
    },
    {
      "cell_type": "code",
      "execution_count": null,
      "metadata": {
        "id": "ef-tMv_BrW1B",
        "outputId": "f737ae7a-bb4f-4fb9-9228-e61c0eb49d2b"
      },
      "outputs": [
        {
          "name": "stdout",
          "output_type": "stream",
          "text": [
            "Hello Monica, Good morning!\n"
          ]
        }
      ],
      "source": [
        "def greet(name, msg): # parameter\n",
        "    \"\"\"This function greets to\n",
        "    the person with the provided message\"\"\"\n",
        "    print(\"Hello\", name + ', ' + msg)\n",
        "\n",
        "greet(\"Monica\", \"Good morning!\")\n",
        "\n",
        " #arguements"
      ]
    },
    {
      "cell_type": "markdown",
      "metadata": {
        "id": "Cp4a3TejrW1C"
      },
      "source": [
        "### Variable Function Arguments"
      ]
    },
    {
      "cell_type": "markdown",
      "metadata": {
        "id": "WYzGdJ0QrW1D"
      },
      "source": [
        "#### Python Default Arguments\n",
        "Function arguments can have default values in Python."
      ]
    },
    {
      "cell_type": "code",
      "execution_count": null,
      "metadata": {
        "id": "PqdGlZzZrW1E",
        "outputId": "3c296879-0d78-49bc-dbe8-ea1e8489a8c5"
      },
      "outputs": [
        {
          "name": "stdout",
          "output_type": "stream",
          "text": [
            "Hello Kate, Good morning!\n",
            "Hello Bruce, How do you do?\n"
          ]
        }
      ],
      "source": [
        "def greet(name, msg=\"Good morning!\"):\n",
        "    \"\"\"\n",
        "    This function greets to\n",
        "    the person with the\n",
        "    provided message.\n",
        "\n",
        "    If the message is not provided,\n",
        "    it defaults to \"Good\n",
        "    morning!\"\n",
        "    \"\"\"\n",
        "\n",
        "    print(\"Hello\", name + ', ' + msg)\n",
        "\n",
        "\n",
        "greet(\"Kate\")\n",
        "greet(\"Bruce\", \"How do you do?\")"
      ]
    },
    {
      "cell_type": "markdown",
      "metadata": {
        "id": "vT2k290zrW1F"
      },
      "source": [
        "## Python Arbitrary Arguments\n",
        "### *args\n",
        "\n",
        "Sometimes, we do not know in advance the number of arguments that will be passed into a function. Python allows us to handle this kind of situation through function calls with an arbitrary number of arguments.\n",
        "\n",
        "This way the function will receive a **tuple** of arguments, and can access the items accordingly.These arguments get wrapped up into a tuple before being passed into the function. "
      ]
    },
    {
      "cell_type": "code",
      "execution_count": null,
      "metadata": {
        "id": "VG5HCwYMrW1F",
        "outputId": "a755f4f5-ff94-4be9-c799-5459dcf738b6"
      },
      "outputs": [
        {
          "name": "stdout",
          "output_type": "stream",
          "text": [
            "<class 'tuple'>\n",
            "Hello Monica\n",
            "Hello Luke\n",
            "Hello Steve\n",
            "Hello John\n"
          ]
        }
      ],
      "source": [
        "def greet(*names):\n",
        "    \"\"\"This function greets all\n",
        "    the person in the names tuple.\"\"\"\n",
        "    print(type(names))\n",
        "    # names is a tuple with arguments\n",
        "    for name in names:\n",
        "        print(\"Hello\", name)\n",
        "\n",
        "\n",
        "greet(\"Monica\", \"Luke\", \"Steve\", \"John\")"
      ]
    },
    {
      "cell_type": "code",
      "execution_count": null,
      "metadata": {
        "id": "mAicRj9_rW1H",
        "outputId": "5d287f61-90a1-4d34-9512-c774834d5409"
      },
      "outputs": [
        {
          "name": "stdout",
          "output_type": "stream",
          "text": [
            "The youngest child is Linus\n"
          ]
        }
      ],
      "source": [
        "def my_function(*kids):\n",
        "  print(\"The youngest child is \" + kids[2])\n",
        "\n",
        "my_function(\"Emil\", \"Tobias\", \"Linus\")"
      ]
    },
    {
      "cell_type": "markdown",
      "metadata": {
        "id": "t9kwAMpurW1H"
      },
      "source": [
        "## Python Arbitrary Keyword Arguments, \n",
        "### **kwargs\n",
        "\n",
        "If you do not know how many keyword arguments that will be passed into your function, add two asterisk: ** before the parameter name in the function definition.\n",
        "\n",
        "This way the function will receive a **dictionary** of arguments, and can access the items accordingly"
      ]
    },
    {
      "cell_type": "code",
      "execution_count": null,
      "metadata": {
        "id": "jswOOMGorW1I",
        "outputId": "534e979c-9268-4cf9-a003-ca492be79d8c"
      },
      "outputs": [
        {
          "name": "stdout",
          "output_type": "stream",
          "text": [
            "His last name is Refsnes\n"
          ]
        }
      ],
      "source": [
        "def my_function(**kid):\n",
        "  print(\"His last name is \" + kid.get(\"lname\"))\n",
        "\n",
        "my_function(fname = \"Tobias\", lname = \"Refsnes\")"
      ]
    },
    {
      "cell_type": "code",
      "execution_count": null,
      "metadata": {
        "id": "tJg1vb-XrW1J",
        "outputId": "765bce4f-6fb2-4591-9901-2430a01f7a98"
      },
      "outputs": [
        {
          "name": "stdout",
          "output_type": "stream",
          "text": [
            "args:  ('apple', 'banana', 'cherry')\n",
            "kwargs:  {'first': 'apple', 'mid': 'banana', 'last': 'cherry'}\n"
          ]
        }
      ],
      "source": [
        "\n",
        "def myFun(*args,**kwargs):\n",
        "    print(\"args: \", args)\n",
        "    print(\"kwargs: \", kwargs)\n",
        " \n",
        " \n",
        "# Now we can use both *args ,**kwargs\n",
        "# to pass arguments to this function :\n",
        "myFun('apple','banana', 'cherry',first=\"apple\",mid=\"banana\",last=\"cherry\")"
      ]
    },
    {
      "cell_type": "markdown",
      "metadata": {
        "id": "uhjuwQADrW1K"
      },
      "source": [
        "### Passing a List as an Argument\n",
        "You can send any data types of argument to a function (string, number, list, dictionary etc.), and it will be treated as the same data type inside the function."
      ]
    },
    {
      "cell_type": "code",
      "execution_count": null,
      "metadata": {
        "id": "56rSwlGurW1L",
        "outputId": "66cd5be6-1120-4fce-c848-ad0da1dbf9ae"
      },
      "outputs": [
        {
          "name": "stdout",
          "output_type": "stream",
          "text": [
            "apple\n",
            "banana\n",
            "cherry\n"
          ]
        }
      ],
      "source": [
        "def my_function(food):\n",
        "  for x in food:\n",
        "    print(x)\n",
        "\n",
        "fruits = [\"apple\", \"banana\", \"cherry\"]\n",
        "\n",
        "my_function(fruits)"
      ]
    },
    {
      "cell_type": "markdown",
      "metadata": {
        "id": "2Ii4AqjjrW1M"
      },
      "source": [
        "# Python Lambda\n",
        "A lambda function is a small anonymous function.\n",
        "\n",
        "A lambda function can take any number of arguments, but can only have one expression."
      ]
    },
    {
      "cell_type": "markdown",
      "metadata": {
        "id": "v7wvnbryrW1M"
      },
      "source": [
        "### SYNTAX\n",
        "lambda arguments : expression"
      ]
    },
    {
      "cell_type": "code",
      "execution_count": null,
      "metadata": {
        "id": "8MQ7HJkzrW1N",
        "outputId": "a87e9811-384a-46a2-848d-3b3ebf12ab5d"
      },
      "outputs": [
        {
          "name": "stdout",
          "output_type": "stream",
          "text": [
            "15\n"
          ]
        }
      ],
      "source": [
        "x = lambda a : a + 10\n",
        "print(x(5))"
      ]
    },
    {
      "cell_type": "code",
      "execution_count": null,
      "metadata": {
        "id": "15uMvBXhrW1N",
        "outputId": "5f6b03aa-1576-4411-98c8-cb3f79544845"
      },
      "outputs": [
        {
          "name": "stdout",
          "output_type": "stream",
          "text": [
            "30\n"
          ]
        }
      ],
      "source": [
        "x = lambda a, b : a * b\n",
        "print(x(5, 6))\n"
      ]
    },
    {
      "cell_type": "markdown",
      "metadata": {
        "id": "_hi8awvBrW1O"
      },
      "source": [
        "The power of lambda is better shown when you use them as an anonymous function inside another function\n",
        "\n"
      ]
    },
    {
      "cell_type": "markdown",
      "metadata": {
        "id": "PJmbcXDFrW1O"
      },
      "source": [
        "# map() and  filter()\n",
        "\n",
        "The functions map() and filter() do the same thing: They each take a function and a list of elements, and then return the result of applying the function to each element in the list.\n",
        "\n",
        "## 1). The map() function:\n",
        "this function accepts another function and a sequence of ‘iterables’ as parameters and provides output after applying the function to each iterable in the sequence. It has the following syntax:\n",
        "\n",
        "**SYNTAX:** map(function, iterables)\n",
        "\n",
        "**NOTE:** User-defined functions and lambda functions can both be sent to the map function."
      ]
    },
    {
      "cell_type": "code",
      "execution_count": null,
      "metadata": {
        "id": "EvXF5IQ5rW1P",
        "outputId": "ba9e01d8-e5d4-4719-9c8c-7a1a0b3f4b76"
      },
      "outputs": [
        {
          "name": "stdout",
          "output_type": "stream",
          "text": [
            "<map object at 0x000001CA8D11FEE0>\n",
            "[1, 4, 9, 16]\n"
          ]
        }
      ],
      "source": [
        "def function(a):\n",
        "    return a*a\n",
        "x = map(function, (1,2,3,4))  \n",
        "print(x)\n",
        "print(list(x))"
      ]
    },
    {
      "cell_type": "markdown",
      "metadata": {
        "id": "yTilv8_MrW1P"
      },
      "source": [
        "x is a map object, as you can see. The map function is displayed next, which takes “function()” as a parameter and then applies “a * a” to all ‘iterables’. As a result, all iterables’ values are multiplied by themselves before being returned."
      ]
    },
    {
      "cell_type": "markdown",
      "metadata": {
        "id": "I8ds7G2IrW1Q"
      },
      "source": [
        "## Lambda within map() functions:"
      ]
    },
    {
      "cell_type": "code",
      "execution_count": null,
      "metadata": {
        "id": "SelY7ipbrW1Q",
        "outputId": "e54d535e-bd6d-4477-c311-cc3ff27e33b4"
      },
      "outputs": [
        {
          "name": "stdout",
          "output_type": "stream",
          "text": [
            "(8, 10, 25, 100, 57, 65, 80, 26, 76, 64)\n"
          ]
        }
      ],
      "source": [
        "tup= (5, 7, 22, 97, 54, 62, 77, 23, 73, 61)\n",
        "newtuple = tuple(map(lambda x: x+3 , tup)) \n",
        "print(newtuple)"
      ]
    },
    {
      "cell_type": "markdown",
      "metadata": {
        "id": "L_Ah2SszrW1R"
      },
      "source": [
        "## 2). The filter() function:\n",
        "While map() passes each element in the iterable through a function and returns the result of all elements having passed through the function, filter(), first of all, requires the function to return boolean values (true or false) and then passes each element in the iterable through the function, \"filtering\" away those that are false. It has the following syntax:\n",
        "\n",
        "The following points are to be noted regarding filter():\n",
        "\n",
        "* Unlike map(), only one iterable is required.\n",
        "* The func argument is required to return a boolean type. If it doesn't, filter simply returns the iterable passed to it. Also, as only one iterable is required, it's implicit that func must only take one argument.\n",
        "* filter passes each element in the iterable through func and returns only the ones that evaluate to true. I mean, it's right there in the name -- a \"filter\".\n",
        "\n",
        "**SYNTAX:** filter (function, iterables)"
      ]
    },
    {
      "cell_type": "code",
      "execution_count": null,
      "metadata": {
        "id": "CqhQHyVvrW1R",
        "outputId": "454d07c2-dff3-4288-b633-e505d333e72c"
      },
      "outputs": [
        {
          "name": "stdout",
          "output_type": "stream",
          "text": [
            "<filter object at 0x000001CA8D11FA90>\n",
            "[3, 4]\n"
          ]
        }
      ],
      "source": [
        "def func(x):\n",
        "     if x>=3:\n",
        "         return x\n",
        "y = filter(func, (1,2,3,4))  \n",
        "print(y)\n",
        "print(list(y))"
      ]
    },
    {
      "cell_type": "markdown",
      "metadata": {
        "id": "q7Ys63o0rW1S"
      },
      "source": [
        "## Lambda within filter() functions:"
      ]
    },
    {
      "cell_type": "code",
      "execution_count": null,
      "metadata": {
        "id": "Aa-XROyprW1S",
        "outputId": "2dbd168e-32a4-41fc-db48-e7d47cf5ea25"
      },
      "outputs": [
        {
          "name": "stdout",
          "output_type": "stream",
          "text": [
            "[3, 4]\n"
          ]
        }
      ],
      "source": [
        "y = filter(lambda x: (x>=3), (1,2,3,4))\n",
        "print(list(y))"
      ]
    },
    {
      "cell_type": "markdown",
      "metadata": {
        "id": "gLheHqH6rW1T"
      },
      "source": [
        "# Try and Except\n",
        "\n",
        "Try and Except statement is used to handle these errors within our code in Python. The try block is used to check some code for errors i.e the code inside the try block will execute when there is no error in the program. Whereas the code inside the except block will execute whenever the program encounters some error in the preceding try block.\n",
        "\n",
        "The **try** block lets you test a block of code for errors.\n",
        "\n",
        "The **except** block lets you handle the error.\n",
        "\n",
        "The **else** block lets you execute code when there is no error.\n",
        "\n",
        "The **finally** block lets you execute code, regardless of the result of the try- and except blocks."
      ]
    },
    {
      "cell_type": "code",
      "execution_count": null,
      "metadata": {
        "id": "-eMdJbK9rW1U",
        "outputId": "30ca5191-4d6e-4106-a42d-5f63d903d428"
      },
      "outputs": [
        {
          "name": "stdout",
          "output_type": "stream",
          "text": [
            "<function <lambda> at 0x0000025883ABC310>\n"
          ]
        }
      ],
      "source": [
        "try:\n",
        "  print(x)\n",
        "except:\n",
        "  print(\"An exception occurred\")"
      ]
    },
    {
      "cell_type": "markdown",
      "metadata": {
        "id": "JPB_IpJJrW1V"
      },
      "source": [
        "## MANY EXCEPTIONS\n"
      ]
    },
    {
      "cell_type": "code",
      "execution_count": null,
      "metadata": {
        "id": "JX59VCKbrW1V",
        "outputId": "04e32dbb-2d1c-4af8-cd8f-ee55939e7ae7"
      },
      "outputs": [
        {
          "name": "stdout",
          "output_type": "stream",
          "text": [
            "Variable abc is not defined\n"
          ]
        }
      ],
      "source": [
        "try:\n",
        "    print(abc)\n",
        "except NameError:\n",
        "    print(\"Variable abc is not defined\")\n",
        "except SyntaxError:\n",
        "    print(\"Something else went wrong\")\n",
        "except:\n",
        "    print(\"Some Other error\")\n",
        "# print(aa)"
      ]
    },
    {
      "cell_type": "code",
      "execution_count": null,
      "metadata": {
        "id": "bCKs8ziErW1W",
        "outputId": "f9a4d9cd-0b6a-4dd4-c652-83cbfd6e1d83"
      },
      "outputs": [
        {
          "name": "stdout",
          "output_type": "stream",
          "text": [
            "-5.0\n",
            "denominator results in 0\n"
          ]
        }
      ],
      "source": [
        "# pass two values to a function. \n",
        "# Write a function to add the two values for numerator and subtract the two values in denominator.\n",
        "# Write the complete function to handle the error as well i.e.(ZeroDivisionError)\n",
        "\n",
        "\n",
        "\n",
        "\n",
        "\n",
        "def test(a , b):\n",
        "    try:\n",
        "        c = ((a+b) // (a-b))\n",
        "    except ZeroDivisionError:\n",
        "        print (\"denominator results in 0\")\n",
        "    else:\n",
        "        print (c)\n",
        "  \n",
        "\n",
        "test(2.0, 3.0)\n",
        "test(3.0, 3.0)"
      ]
    },
    {
      "cell_type": "markdown",
      "metadata": {
        "id": "VOaL6XvRrW1W"
      },
      "source": [
        "## RAISE KEYWORD\n",
        "We can choose to throw an exception if a condition occurs.\n",
        "\n",
        "To throw (or raise) an exception, use the raise keyword"
      ]
    },
    {
      "cell_type": "code",
      "execution_count": null,
      "metadata": {
        "id": "9eC8RYJ7rW1X",
        "outputId": "d0f04957-91a9-4738-8a51-72c01b3b95cd"
      },
      "outputs": [
        {
          "ename": "NameError",
          "evalue": "Sorry, no numbers below zero",
          "output_type": "error",
          "traceback": [
            "\u001b[1;31m---------------------------------------------------------------------------\u001b[0m",
            "\u001b[1;31mNameError\u001b[0m                                 Traceback (most recent call last)",
            "Cell \u001b[1;32mIn [30], line 5\u001b[0m\n\u001b[0;32m      3\u001b[0m \u001b[38;5;28;01mif\u001b[39;00m x \u001b[38;5;241m<\u001b[39m \u001b[38;5;241m0\u001b[39m:\n\u001b[0;32m      4\u001b[0m     \u001b[38;5;28;01mpass\u001b[39;00m\n\u001b[1;32m----> 5\u001b[0m     \u001b[38;5;28;01mraise\u001b[39;00m \u001b[38;5;167;01mNameError\u001b[39;00m(\u001b[38;5;124m\"\u001b[39m\u001b[38;5;124mSorry, no numbers below zero\u001b[39m\u001b[38;5;124m\"\u001b[39m)\n",
            "\u001b[1;31mNameError\u001b[0m: Sorry, no numbers below zero"
          ]
        }
      ],
      "source": [
        "x = -1\n",
        "\n",
        "if x < 0:\n",
        "    pass\n",
        "    raise NameError(\"Sorry, no numbers below zero\")"
      ]
    },
    {
      "cell_type": "markdown",
      "metadata": {
        "id": "BoSmOFvfrW1X"
      },
      "source": [
        "# FILE HANDLING"
      ]
    },
    {
      "cell_type": "markdown",
      "metadata": {
        "id": "fXh5juj3rW1X"
      },
      "source": [
        "## Python File Open\n",
        "File handling is an important part of any web application.\n",
        "\n",
        "Python has several functions for creating, reading, updating, and deleting files.\n",
        "\n",
        "#### File Handling\n",
        "The key function for working with files in Python is the open() function.\n",
        "\n",
        "The open() function takes two parameters; filename, and mode.\n",
        "\n",
        "There are four different methods (modes) for opening a file\n",
        "\n",
        "\"r\" - Read - Default value. Opens a file for reading, error if the file does not exist\n",
        "\n",
        "\"a\" - Append - Opens a file for appending, creates the file if it does not exist\n",
        "\n",
        "\"w\" - Write - Opens a file for writing, creates the file if it does not exist\n",
        "\n",
        "\"x\" - Create - Creates the specified file, returns an error if the file exists\n",
        "\n",
        "In addition you can specify if the file should be handled as binary or text mode\n",
        "\n",
        "\"t\" - Text - Default value. Text mode\n",
        "\n",
        "\"b\" - Binary - Binary mode (e.g. images)"
      ]
    },
    {
      "cell_type": "code",
      "execution_count": null,
      "metadata": {
        "id": "QZuydokMrW1Y"
      },
      "outputs": [],
      "source": [
        "f = open(\"untitled.txt\")"
      ]
    },
    {
      "cell_type": "code",
      "execution_count": null,
      "metadata": {
        "id": "_i9wprP8rW1Y"
      },
      "outputs": [],
      "source": [
        "f = open(\"untitled.txt\", \"r\")"
      ]
    },
    {
      "cell_type": "markdown",
      "metadata": {
        "id": "8nKfd_bprW1Z"
      },
      "source": [
        "## Open a file and read the content\n",
        "The open() function returns a file object, which has a read() method for reading the content of the file:"
      ]
    },
    {
      "cell_type": "code",
      "execution_count": null,
      "metadata": {
        "id": "WdromuUnrW1Z",
        "outputId": "e19d8c79-d8fa-497c-b2a0-406190b5b9f0"
      },
      "outputs": [
        {
          "name": "stdout",
          "output_type": "stream",
          "text": [
            "Hello\n",
            "\n",
            "This is Python Session 2\n",
            "\n"
          ]
        }
      ],
      "source": [
        "f = open(\"untitled.txt\", \"r\")\n",
        "print(f.readline())\n",
        "print(f.readline())"
      ]
    },
    {
      "cell_type": "markdown",
      "metadata": {
        "id": "3zmZYViQrW1Z"
      },
      "source": [
        "## Read Only Parts of the File\n",
        "By default the read() method returns the whole text, but you can also specify how many characters you want to return\n",
        "\n",
        "You can return one line by using the readline() method"
      ]
    },
    {
      "cell_type": "markdown",
      "metadata": {
        "id": "dFICRKTVrW1a"
      },
      "source": [
        "By looping through the lines of the file, you can read the whole file, line by line:\n",
        "    "
      ]
    },
    {
      "cell_type": "code",
      "execution_count": null,
      "metadata": {
        "id": "Mfjzv6O7rW1a",
        "outputId": "19f4de31-2312-4d92-cc80-f4517cf4de31"
      },
      "outputs": [
        {
          "name": "stdout",
          "output_type": "stream",
          "text": [
            "Hello\n",
            "\n",
            "This is Python Session 2\n",
            "\n",
            "Good luck with Assignments\n",
            "\n",
            "Now the file has more content!\n"
          ]
        }
      ],
      "source": [
        "f = open(\"untitled.txt\", \"r\")\n",
        "for x in f:\n",
        "  print(x)"
      ]
    },
    {
      "cell_type": "markdown",
      "metadata": {
        "id": "-blZB9h6rW1a"
      },
      "source": [
        "## Close Files\n",
        "Note: You should always close your files, in some cases, due to buffering, changes made to a file may not show until you close the file."
      ]
    },
    {
      "cell_type": "code",
      "execution_count": null,
      "metadata": {
        "id": "Z6q11_0vrW1b"
      },
      "outputs": [],
      "source": [
        "f = open(\"untitled.txt\", \"r\")\n",
        "print(f.readline())\n",
        "f.close()"
      ]
    },
    {
      "cell_type": "markdown",
      "metadata": {
        "id": "im_sG1eOrW1b"
      },
      "source": [
        "# Python File Write\n",
        "Write to an Existing File\n",
        "To write to an existing file, you must add a parameter to the open() function:\n",
        "\n",
        "\"a\" - Append - will append to the end of the file\n",
        "\n",
        "\"w\" - Write - will overwrite any existing content\n",
        "\n",
        "**Note**: the \"w\" method will overwrite the entire file."
      ]
    },
    {
      "cell_type": "code",
      "execution_count": null,
      "metadata": {
        "id": "C3MToTjDrW1b",
        "outputId": "bacb38ed-7afc-46a7-acd0-b78a342e937f"
      },
      "outputs": [
        {
          "name": "stdout",
          "output_type": "stream",
          "text": [
            "Hello\n",
            "This is Python Session 2\n",
            "Good luck with Assignments\n",
            "Now the file has more content!Now the file has more content!\n"
          ]
        }
      ],
      "source": [
        "f = open(\"untitled.txt\", \"a\")\n",
        "f.write(\"Now the file has more content!\")\n",
        "f.close()\n",
        "\n",
        "#open and read the file after the appending:\n",
        "f = open(\"untitled.txt\", \"r\")\n",
        "print(f.read())"
      ]
    },
    {
      "cell_type": "markdown",
      "metadata": {
        "id": "BCsUH2eMrW1c"
      },
      "source": [
        "## Create a New File\n",
        "To create a new file in Python, use the open() method, with one of the following parameters:\n",
        "\n",
        "\"x\" - Create - will create a file, returns an error if the file exist\n",
        "\n",
        "\"a\" - Append - will create a file if the specified file does not exist\n",
        "\n",
        "\"w\" - Write - will create a file if the specified file does not exist"
      ]
    },
    {
      "cell_type": "code",
      "execution_count": null,
      "metadata": {
        "id": "efoZcyTtrW1d"
      },
      "outputs": [],
      "source": [
        "f = open(\"myfile2.txt\", \"x\")\n",
        "f.close()"
      ]
    },
    {
      "cell_type": "markdown",
      "metadata": {
        "id": "vZwAWkQarW1d"
      },
      "source": [
        "# Python Delete File\n",
        "to delete a file, you must import the OS module, and run its os.remove() function:"
      ]
    },
    {
      "cell_type": "code",
      "execution_count": null,
      "metadata": {
        "id": "1hr29Cl9rW1d"
      },
      "outputs": [],
      "source": [
        "import os\n",
        "os.remove(\"cfcfc.txt\")"
      ]
    },
    {
      "cell_type": "code",
      "execution_count": null,
      "metadata": {
        "id": "Yjb0fkQMrW1e",
        "outputId": "bb768813-4f14-40ed-c358-a95c948cb4c8"
      },
      "outputs": [
        {
          "name": "stdout",
          "output_type": "stream",
          "text": [
            "The file does not exist\n"
          ]
        }
      ],
      "source": [
        "# To avoid getting an error, you might want to check if the file exists before you try to delete it:\n",
        "import os\n",
        "if os.path.exists(\"demofile.txt\"):\n",
        "  os.remove(\"demofile.txt\")\n",
        "else:\n",
        "  print(\"The file does not exist\")"
      ]
    },
    {
      "cell_type": "markdown",
      "metadata": {
        "id": "nUsnAlKArW1e"
      },
      "source": [
        "## Delete Folder\n",
        "To delete an entire folder, use the os.rmdir() method:"
      ]
    },
    {
      "cell_type": "code",
      "execution_count": null,
      "metadata": {
        "id": "XO6h4WQ_rW1f"
      },
      "outputs": [],
      "source": [
        "import os\n",
        "os.rmdir(\"myfolder\")"
      ]
    }
  ],
  "metadata": {
    "kernelspec": {
      "display_name": "Python 3.10.5 64-bit",
      "language": "python",
      "name": "python3"
    },
    "language_info": {
      "codemirror_mode": {
        "name": "ipython",
        "version": 3
      },
      "file_extension": ".py",
      "mimetype": "text/x-python",
      "name": "python",
      "nbconvert_exporter": "python",
      "pygments_lexer": "ipython3",
      "version": "3.10.5"
    },
    "vscode": {
      "interpreter": {
        "hash": "faa362395b4e21d0f13e558e4f10ef7d54897f3f2b9f77fef9743fbd08f4088e"
      }
    },
    "colab": {
      "provenance": [],
      "include_colab_link": true
    }
  },
  "nbformat": 4,
  "nbformat_minor": 0
}