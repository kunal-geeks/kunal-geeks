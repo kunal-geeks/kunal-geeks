{
  "cells": [
    {
      "cell_type": "markdown",
      "metadata": {
        "id": "view-in-github",
        "colab_type": "text"
      },
      "source": [
        "<a href=\"https://colab.research.google.com/github/kunal-geeks/kunal-geeks/blob/main/Python_Session_Number_1.ipynb\" target=\"_parent\"><img src=\"https://colab.research.google.com/assets/colab-badge.svg\" alt=\"Open In Colab\"/></a>"
      ]
    },
    {
      "cell_type": "markdown",
      "metadata": {
        "id": "xJShe_TdrW2x"
      },
      "source": [
        "# Session 1\n",
        "\n",
        "\n",
        "### TOPICS TO BE COVERED:\n",
        "* Python Intro\n",
        "* Python Srings\n",
        "* Python Booleans\n",
        "* Python Operators\n",
        "    * Arithmetic operators\n",
        "    * Assignment operators\n",
        "    * Comparison operators\n",
        "    * Logical operators\n",
        "    * Identity operators\n",
        "    * Membership operators\n",
        "    * Bitwise operators\n",
        "* List\n",
        "* Set\n",
        "* Tuple\n",
        "* Dictionary\n",
        "* While Loops\n",
        "* For Loops\n",
        "* List Comprehension\n",
        "* Dictionary Comprehension"
      ]
    },
    {
      "cell_type": "markdown",
      "metadata": {
        "id": "BGTZBcpBrW22"
      },
      "source": [
        "----------"
      ]
    },
    {
      "cell_type": "markdown",
      "metadata": {
        "id": "s3esM2QVrW23"
      },
      "source": [
        "# Why Python for DATA ENGINEERS??\n",
        "\n",
        "Data engineers use Python for the following tasks:\n",
        "\n",
        " *Ingesting Data from different file formats.\n",
        "\n",
        " *Data acquisition with the help of various APIs.\n",
        "\n",
        " *Data Processing using Python libraries like NumPy, Pandas, etc.\n",
        "\n",
        " *Building ETL/ELT Pipelines using DAGs."
      ]
    },
    {
      "cell_type": "markdown",
      "metadata": {
        "id": "Ei7Oz2borW25"
      },
      "source": [
        "# Python Strings\n",
        "\n",
        "Strings in python are surrounded by either single quotation marks, or double quotation marks.\n",
        "\n",
        "'hello' is the same as \"hello\"\n",
        "\n",
        "Assign String to a Variable\n",
        "\n",
        "Assigning a string to a variable is done with the variable name followed by an equal sign and the string:"
      ]
    },
    {
      "cell_type": "code",
      "execution_count": null,
      "metadata": {
        "id": "zDlQiZGZrW26",
        "outputId": "aa9e1b41-d92e-4e26-b193-693ac016459d"
      },
      "outputs": [
        {
          "name": "stdout",
          "output_type": "stream",
          "text": [
            "Hello\n"
          ]
        }
      ],
      "source": [
        "a = \"Hello\"\n",
        "print(a)"
      ]
    },
    {
      "cell_type": "markdown",
      "metadata": {
        "id": "iTAo6TMBrW29"
      },
      "source": [
        "## Multiline Strings\n",
        "You can assign a multiline string to a variable by using three quotes:"
      ]
    },
    {
      "cell_type": "code",
      "execution_count": null,
      "metadata": {
        "id": "yBGqq4BPrW2-",
        "outputId": "0296fc57-3313-4924-8e01-66aaf2d09d7a"
      },
      "outputs": [
        {
          "name": "stdout",
          "output_type": "stream",
          "text": [
            "Python is a high-level, \n",
            "general-purpose programming language.\n"
          ]
        }
      ],
      "source": [
        "a = \"\"\"Python is a high-level, \n",
        "general-purpose programming language.\"\"\"\n",
        "\n",
        "\n",
        "b = '''Python is a high-level, \n",
        "general-purpose programming language.'''\n",
        "\n",
        "\n",
        "print(a)"
      ]
    },
    {
      "cell_type": "markdown",
      "metadata": {
        "id": "wbQWmL9ArW2-"
      },
      "source": [
        "## Strings are Arrays\n",
        "Python does not have a character data type, a single character is simply a string with a length of 1.\n",
        "\n",
        "### INDEXING in strings\n",
        "Square brackets **'[ ]'** can be used to access elements of the string."
      ]
    },
    {
      "cell_type": "code",
      "execution_count": null,
      "metadata": {
        "id": "Berm3FA8rW2_",
        "outputId": "d4fd0269-0e7c-4974-c37d-a51bf47ecc92"
      },
      "outputs": [
        {
          "name": "stdout",
          "output_type": "stream",
          "text": [
            "e\n"
          ]
        }
      ],
      "source": [
        "a = \"Hello, World!\"\n",
        "print(a[1])"
      ]
    },
    {
      "cell_type": "markdown",
      "metadata": {
        "id": "aiAuUi1jrW3A"
      },
      "source": [
        "## String Length\n",
        "To get the length of a string, use the len() function.\n",
        " "
      ]
    },
    {
      "cell_type": "code",
      "execution_count": null,
      "metadata": {
        "id": "Gj1sKtAIrW3A",
        "outputId": "b58a198f-e4d7-4bb7-c533-d37e3b7d8768"
      },
      "outputs": [
        {
          "name": "stdout",
          "output_type": "stream",
          "text": [
            "13\n"
          ]
        }
      ],
      "source": [
        "a = \"Hello, World!\"\n",
        "print(len(a))"
      ]
    },
    {
      "cell_type": "markdown",
      "metadata": {
        "id": "IgADKWDFrW3B"
      },
      "source": [
        "## Check String\n",
        "To check if a certain phrase or character is present in a string, we can use the keyword in. "
      ]
    },
    {
      "cell_type": "code",
      "execution_count": null,
      "metadata": {
        "id": "tMw8lMpmrW3C",
        "outputId": "882b3516-1c69-47db-b5ec-279085850627"
      },
      "outputs": [
        {
          "name": "stdout",
          "output_type": "stream",
          "text": [
            "True\n"
          ]
        }
      ],
      "source": [
        "txt = \"The best things in life are free!\"\n",
        "print(\"free\" in txt)"
      ]
    },
    {
      "cell_type": "markdown",
      "metadata": {
        "id": "CpjdoWbyrW3C"
      },
      "source": [
        "## Check if NOT\n",
        "To check if a certain phrase or character is NOT present in a string, we can use the keyword not in. "
      ]
    },
    {
      "cell_type": "code",
      "execution_count": null,
      "metadata": {
        "id": "zXyKwpAprW3D",
        "outputId": "bb9945da-9c4d-47c2-d374-bd02c8b65f69"
      },
      "outputs": [
        {
          "name": "stdout",
          "output_type": "stream",
          "text": [
            "True\n"
          ]
        }
      ],
      "source": [
        "txt = \"The best things in life are free!\"\n",
        "print(\"expensive\" not in txt)"
      ]
    },
    {
      "cell_type": "markdown",
      "metadata": {
        "id": "ahP4ALchrW3D"
      },
      "source": [
        "# INDEX in strings\n",
        "-6  -5 -4 -3 -2 -1\n",
        "\n",
        " P   Y  T  H  O  N\n",
        " \n",
        " 0   1  2  3  4  5"
      ]
    },
    {
      "cell_type": "markdown",
      "metadata": {
        "id": "nawcd3ekrW3D"
      },
      "source": [
        "# Slicing\n",
        "You can return a range of characters by using the slice syntax.\n",
        "\n",
        "Specify the start index and the end index, separated by a colon, to return a part of the string. \n",
        "\n",
        "Python slicing is about obtaining a sub-string from the given string by slicing it respectively from start to end.\n",
        "\n",
        "Python slicing can be done in two ways.\n",
        "\n",
        "* slice() Constructor\n",
        "* Extending Indexing"
      ]
    },
    {
      "cell_type": "markdown",
      "metadata": {
        "id": "g9NFxlXfrW3E"
      },
      "source": [
        "### slice() Constructor\n",
        "The slice() constructor creates a slice object representing the set of indices specified by range(start, stop, step).\n",
        "\n",
        "Syntax:\n",
        "\n",
        "slice(stop)\n",
        "\n",
        "slice(start, stop, step)\n",
        "\n",
        "Parameters:\n",
        "* start: Starting index where the slicing of object starts.\n",
        "* stop: Ending index where the slicing of object stops.\n",
        "* step: It is an optional argument that determines the increment between each index for slicing.\n",
        "\n",
        "Return Type: Returns a sliced object containing elements in the given range only."
      ]
    },
    {
      "cell_type": "code",
      "execution_count": null,
      "metadata": {
        "id": "6wFPS2SUrW3F",
        "outputId": "4380a121-3bc5-4f39-eed7-1ccd202fc00b"
      },
      "outputs": [
        {
          "name": "stdout",
          "output_type": "stream",
          "text": [
            "PYT\n",
            "YH\n"
          ]
        }
      ],
      "source": [
        "String ='PYTHON'\n",
        "  \n",
        "# Using slice constructor\n",
        "s1 = slice(3)\n",
        "s2 = slice(1, 5, 2) \n",
        "  \n",
        "print(String[s1]) \n",
        "print(String[s2]) \n"
      ]
    },
    {
      "cell_type": "markdown",
      "metadata": {
        "id": "LOUrSd-2rW3F"
      },
      "source": [
        "### Extending indexing\n",
        "In Python, indexing syntax can be used as a substitute for the slice object. This is an easy and convenient way to slice a string both syntax wise and execution wise.\n",
        "\n",
        "Syntax\n",
        "\n",
        "string[start:end:step]\n",
        "\n",
        "start, end and step have the same mechanism as slice() constructor."
      ]
    },
    {
      "cell_type": "code",
      "execution_count": null,
      "metadata": {
        "id": "sLMBv8p-rW3G",
        "outputId": "58552076-a0ec-42ff-fc61-4d0aa2ddd697"
      },
      "outputs": [
        {
          "name": "stdout",
          "output_type": "stream",
          "text": [
            "THO\n",
            "YH\n"
          ]
        }
      ],
      "source": [
        "String ='PYTHON'\n",
        "  \n",
        "# Using indexing sequence\n",
        "print(String[2:5])\n",
        "print(String[1:5:2])\n",
        "\n"
      ]
    },
    {
      "cell_type": "code",
      "execution_count": null,
      "metadata": {
        "id": "v6HJ5GMHrW3G",
        "outputId": "7482127d-77cd-492c-c653-7f6fe21416a8"
      },
      "outputs": [
        {
          "name": "stdout",
          "output_type": "stream",
          "text": [
            "[1, 2, 3, 8, 9]\n"
          ]
        }
      ],
      "source": [
        "l = [1, 2, 3, 4, 5, 6, 7, 8, 9]\n",
        "\n",
        "newList = l[:3]+l[7:]\n",
        "print(newList)"
      ]
    },
    {
      "cell_type": "markdown",
      "metadata": {
        "id": "1ikgbBX5rW3H"
      },
      "source": [
        "# Python - Modify Strings\n",
        "Python has a set of built-in methods that you can use on strings."
      ]
    },
    {
      "cell_type": "markdown",
      "metadata": {
        "id": "gWgW06xzrW3I"
      },
      "source": [
        "## Upper Case\n",
        "The upper() method returns the string in upper case:"
      ]
    },
    {
      "cell_type": "code",
      "execution_count": null,
      "metadata": {
        "id": "NDKurGCbrW3I",
        "outputId": "ecb89007-196a-43b5-ff11-014ed8819cc0"
      },
      "outputs": [
        {
          "name": "stdout",
          "output_type": "stream",
          "text": [
            "HELLO, WORLD!\n"
          ]
        }
      ],
      "source": [
        "a = \"Hello, World!\"\n",
        "print(a.upper())"
      ]
    },
    {
      "cell_type": "markdown",
      "metadata": {
        "id": "-ZLq2pMlrW3K"
      },
      "source": [
        "## Lower Case\n",
        "The lower() method returns the string in lower case:"
      ]
    },
    {
      "cell_type": "code",
      "execution_count": null,
      "metadata": {
        "id": "l1rZGAuHrW3K",
        "outputId": "3dc38165-d4d4-4cf1-d432-ca59ef92e516"
      },
      "outputs": [
        {
          "name": "stdout",
          "output_type": "stream",
          "text": [
            "hello, world!\n"
          ]
        }
      ],
      "source": [
        "a = \"Hello, World!\"\n",
        "print(a.lower())"
      ]
    },
    {
      "cell_type": "markdown",
      "metadata": {
        "id": "eiQZVUDdrW3L"
      },
      "source": [
        "## Remove Whitespace\n",
        "Whitespace is the space before and/or after the actual text, and very often you want to remove this space. \n",
        "\n",
        "The **strip()** method removes any whitespace from the beginning or the end:"
      ]
    },
    {
      "cell_type": "code",
      "execution_count": null,
      "metadata": {
        "id": "3kJpgrp-rW3L",
        "outputId": "00a6d8d3-4f3e-4014-c15d-52ce5d398762"
      },
      "outputs": [
        {
          "name": "stdout",
          "output_type": "stream",
          "text": [
            "Hello, World!\n"
          ]
        }
      ],
      "source": [
        "a = \"   Hello, World! \"\n",
        "print(a.strip())"
      ]
    },
    {
      "cell_type": "markdown",
      "metadata": {
        "id": "hS1r2z89rW3M"
      },
      "source": [
        "## Replace String\n",
        "The replace() method replaces a string with another string:"
      ]
    },
    {
      "cell_type": "code",
      "execution_count": null,
      "metadata": {
        "id": "gG9lBn8PrW3M",
        "outputId": "a55fd42b-46d5-4f2e-885b-306a9d5e9c5d"
      },
      "outputs": [
        {
          "name": "stdout",
          "output_type": "stream",
          "text": [
            "Jello, World!\n"
          ]
        }
      ],
      "source": [
        "a = \"Hello, World!\"\n",
        "print(a.replace(\"H\", \"J\"))"
      ]
    },
    {
      "cell_type": "markdown",
      "metadata": {
        "id": "CLZnYHrVrW3M"
      },
      "source": [
        "## Split String\n",
        "The split() method returns a list where the text between the specified separator becomes the list items.\n",
        "\n",
        "The split() method splits the string into substrings if it finds instances of the separator:"
      ]
    },
    {
      "cell_type": "code",
      "execution_count": null,
      "metadata": {
        "id": "l9tm2NRfrW3N",
        "outputId": "910174d5-8a92-477b-c751-1d8a5103f712"
      },
      "outputs": [
        {
          "name": "stdout",
          "output_type": "stream",
          "text": [
            "['Hello', ' World!']\n"
          ]
        }
      ],
      "source": [
        "a = \"Hello, World!\"\n",
        "print(a.split(\",\"))"
      ]
    },
    {
      "cell_type": "markdown",
      "metadata": {
        "id": "PqPMQzg4rW3N"
      },
      "source": [
        "# Python - String Concatenation\n",
        "## String Concatenation\n",
        "To concatenate, or combine, two strings you can use the + operator."
      ]
    },
    {
      "cell_type": "code",
      "execution_count": null,
      "metadata": {
        "id": "t-W_KVrErW3O",
        "outputId": "9e09d7ab-4ef1-4368-ebb1-442fa1e74cf0"
      },
      "outputs": [
        {
          "name": "stdout",
          "output_type": "stream",
          "text": [
            "HelloWorld\n"
          ]
        }
      ],
      "source": [
        "a = \"Hello\"\n",
        "b = \"World\"\n",
        "c = a + b\n",
        "print(c)"
      ]
    },
    {
      "cell_type": "markdown",
      "metadata": {
        "id": "4V7Y-Th6rW3O"
      },
      "source": [
        "# Python - Format Strings"
      ]
    },
    {
      "cell_type": "markdown",
      "metadata": {
        "id": "4tXsXXkFrW3O"
      },
      "source": [
        "## String Format"
      ]
    },
    {
      "cell_type": "code",
      "execution_count": null,
      "metadata": {
        "id": "YmzG36X2rW3P",
        "outputId": "1360e276-db8e-4850-c73c-cfb3706f525c"
      },
      "outputs": [
        {
          "ename": "TypeError",
          "evalue": "can only concatenate str (not \"int\") to str",
          "output_type": "error",
          "traceback": [
            "\u001b[1;31m---------------------------------------------------------------------------\u001b[0m",
            "\u001b[1;31mTypeError\u001b[0m                                 Traceback (most recent call last)",
            "Cell \u001b[1;32mIn [21], line 2\u001b[0m\n\u001b[0;32m      1\u001b[0m age \u001b[38;5;241m=\u001b[39m \u001b[38;5;241m36\u001b[39m\n\u001b[1;32m----> 2\u001b[0m txt \u001b[38;5;241m=\u001b[39m \u001b[38;5;124;43m\"\u001b[39;49m\u001b[38;5;124;43mMy name is John, I am \u001b[39;49m\u001b[38;5;124;43m\"\u001b[39;49m\u001b[43m \u001b[49m\u001b[38;5;241;43m+\u001b[39;49m\u001b[43m \u001b[49m\u001b[43mage\u001b[49m\n\u001b[0;32m      3\u001b[0m \u001b[38;5;28mprint\u001b[39m(txt)\n",
            "\u001b[1;31mTypeError\u001b[0m: can only concatenate str (not \"int\") to str"
          ]
        }
      ],
      "source": [
        "age = 36\n",
        "txt = \"My name is John, I am \" + age\n",
        "print(txt)"
      ]
    },
    {
      "cell_type": "markdown",
      "metadata": {
        "id": "FUerIdIxrW3P"
      },
      "source": [
        "we can combine strings and numbers by using the format() method!\n",
        "\n",
        "The format() method takes the passed arguments, formats them, and places them in the string where the placeholders {} are:"
      ]
    },
    {
      "cell_type": "code",
      "execution_count": null,
      "metadata": {
        "id": "rhOFWzGhrW3Q",
        "outputId": "d28f1939-ed65-4263-ed83-2f2a8bd0df18"
      },
      "outputs": [
        {
          "name": "stdout",
          "output_type": "stream",
          "text": [
            "My name is John, and I am 36\n"
          ]
        }
      ],
      "source": [
        "age = 36\n",
        "txt = \"My name is John, and I am {}\"\n",
        "print(txt.format(age))"
      ]
    },
    {
      "cell_type": "markdown",
      "metadata": {
        "id": "ZAcUWgOnrW3Q"
      },
      "source": [
        "The format() method takes unlimited number of arguments, and are placed into the respective placeholders:"
      ]
    },
    {
      "cell_type": "code",
      "execution_count": null,
      "metadata": {
        "id": "dlqk40gOrW3Q",
        "outputId": "16a7eeb7-f14d-4504-b231-f496fae155f1"
      },
      "outputs": [
        {
          "name": "stdout",
          "output_type": "stream",
          "text": [
            "I want 3 pieces of item 567 for 49.95 dollars.\n"
          ]
        }
      ],
      "source": [
        "quantity = 3\n",
        "itemno = 567\n",
        "price = 49.95\n",
        "myorder = \"I want {} pieces of item {} for {} dollars.\"\n",
        "print(myorder.format(quantity, itemno, price))"
      ]
    },
    {
      "cell_type": "markdown",
      "metadata": {
        "id": "XISJLVLzrW3R"
      },
      "source": [
        " You can use index numbers {0} to be sure the arguments are placed in the correct placeholders:"
      ]
    },
    {
      "cell_type": "code",
      "execution_count": null,
      "metadata": {
        "id": "Hm_XycLmrW3R",
        "outputId": "66e7716c-2196-4522-b8f3-f5cc1903681f"
      },
      "outputs": [
        {
          "name": "stdout",
          "output_type": "stream",
          "text": [
            "I want to pay 49.95 dollars for 3 pieces of item 567.\n"
          ]
        }
      ],
      "source": [
        "quantity = 3\n",
        "itemno = 567\n",
        "price = 49.95\n",
        "myorder = \"I want to pay {2} dollars for {0} pieces of item {1}.\"\n",
        "print(myorder.format(quantity, itemno, price))"
      ]
    },
    {
      "cell_type": "markdown",
      "metadata": {
        "id": "5RIMfw20rW3S"
      },
      "source": [
        "# Python - Escape Characters\n",
        "Escape Character\n",
        "\n",
        "To insert characters that are illegal in a string, use an escape character.\n",
        "\n",
        "An escape character is a backslash \\ followed by the character you want to insert.\n",
        "\n",
        "An example of an illegal character is a double quote inside a string that is surrounded by double quotes:"
      ]
    },
    {
      "cell_type": "code",
      "execution_count": null,
      "metadata": {
        "id": "LmLVbT8_rW3S",
        "outputId": "70b029c0-5af1-491d-f5cb-446b08326186"
      },
      "outputs": [
        {
          "ename": "SyntaxError",
          "evalue": "unterminated string literal (detected at line 1) (2252451193.py, line 1)",
          "output_type": "error",
          "traceback": [
            "\u001b[1;36m  Cell \u001b[1;32mIn [25], line 1\u001b[1;36m\u001b[0m\n\u001b[1;33m    txt = 'We are the so-called \"Vikings\" from the north.''\u001b[0m\n\u001b[1;37m                                                          ^\u001b[0m\n\u001b[1;31mSyntaxError\u001b[0m\u001b[1;31m:\u001b[0m unterminated string literal (detected at line 1)\n"
          ]
        }
      ],
      "source": [
        "txt = 'We are the so-called \"Vikings\" from the north.''"
      ]
    },
    {
      "cell_type": "code",
      "execution_count": null,
      "metadata": {
        "id": "kEGro8-SrW3S"
      },
      "outputs": [],
      "source": [
        "#use the escape character \\\":"
      ]
    },
    {
      "cell_type": "code",
      "execution_count": null,
      "metadata": {
        "id": "smwfwsQmrW3T",
        "outputId": "508f0eb9-9af5-4f76-af9e-177cf38c76bf"
      },
      "outputs": [
        {
          "name": "stdout",
          "output_type": "stream",
          "text": [
            "We are the so-called \"Vikings\" from the north\n"
          ]
        }
      ],
      "source": [
        "txt = \"We are the so-called \\\"Vikings\\\" from the north\"\n",
        "print(txt)\n"
      ]
    },
    {
      "cell_type": "markdown",
      "metadata": {
        "id": "NeLvn300rW3T"
      },
      "source": [
        "## Escape Characters\n",
        "Other escape characters used in Python:\n",
        "\n",
        "![image.png](attachment:image.png)"
      ]
    },
    {
      "cell_type": "markdown",
      "metadata": {
        "id": "VncfNU8BrW3U"
      },
      "source": [
        "# Python - String Methods\n",
        "### String Methods\n",
        "\n",
        "Python has a set of built-in methods that you can use on strings.\n",
        "\n",
        "Search for it and practice"
      ]
    },
    {
      "cell_type": "markdown",
      "metadata": {
        "id": "VJAcd33NrW3U"
      },
      "source": [
        "_______"
      ]
    },
    {
      "cell_type": "markdown",
      "metadata": {
        "id": "mzOMY3NlrW3U"
      },
      "source": [
        "# Python Booleans\n",
        "Booleans represent one of two values: True or False.\n",
        "\n",
        "## Boolean Values\n",
        "In programming you often need to know if an expression is True or False.\n",
        "\n",
        "You can evaluate any expression in Python, and get one of two answers, True or False.\n",
        "\n",
        "When you compare two values, the expression is evaluated and Python returns the Boolean answer:"
      ]
    },
    {
      "cell_type": "code",
      "execution_count": null,
      "metadata": {
        "id": "n50IuYdJrW3V",
        "outputId": "b5510658-4777-4e6f-c8dd-4736749cfe91"
      },
      "outputs": [
        {
          "name": "stdout",
          "output_type": "stream",
          "text": [
            "True\n",
            "False\n",
            "False\n"
          ]
        }
      ],
      "source": [
        "print(10 > 9)\n",
        "print(10 == 9)\n",
        "print(10 < 9)"
      ]
    },
    {
      "cell_type": "markdown",
      "metadata": {
        "id": "8bFtXK9jrW3V"
      },
      "source": [
        "### Evaluate Values and Variables\n",
        "The bool() function allows you to evaluate any value, and give you True or False in return,"
      ]
    },
    {
      "cell_type": "code",
      "execution_count": null,
      "metadata": {
        "id": "BfCBLRobrW3V",
        "outputId": "44b42f58-2a56-4615-f0f3-122f86a02fe8"
      },
      "outputs": [
        {
          "name": "stdout",
          "output_type": "stream",
          "text": [
            "True\n",
            "True\n"
          ]
        }
      ],
      "source": [
        "print(bool(\"Hello\"))\n",
        "print(bool(15))"
      ]
    },
    {
      "cell_type": "markdown",
      "metadata": {
        "id": "wdfCQaQirW3W"
      },
      "source": [
        "### Most Values are True\n",
        "Almost any value is evaluated to True if it has some sort of content.\n",
        "\n",
        "Any string is True, except empty strings.\n",
        "\n",
        "Any number is True, except 0.\n",
        "\n",
        "Any list, tuple, set, and dictionary are True, except empty ones.\n",
        "\n",
        "### Some Values are False\n",
        "In fact, there are not many values that evaluate to False, except empty values, such as (), [], {}, \"\", the number 0, and the value None. And of course the value False evaluates to False."
      ]
    },
    {
      "cell_type": "code",
      "execution_count": null,
      "metadata": {
        "id": "1jqM1BaLrW3W",
        "outputId": "c1c50b19-e117-447d-ba1c-c41d0d8eb336"
      },
      "outputs": [
        {
          "name": "stdout",
          "output_type": "stream",
          "text": [
            "False\n",
            "False\n",
            "False\n",
            "False\n",
            "False\n",
            "False\n",
            "False\n"
          ]
        }
      ],
      "source": [
        "print(bool(False))\n",
        "print(bool(None))\n",
        "print(bool(0))\n",
        "print(bool(\"\"))\n",
        "print(bool(()))\n",
        "print(bool([]))\n",
        "print(bool({}))"
      ]
    },
    {
      "cell_type": "markdown",
      "metadata": {
        "id": "dWCvPSLzrW3X"
      },
      "source": [
        "_____"
      ]
    },
    {
      "cell_type": "markdown",
      "metadata": {
        "id": "H_gP-_FIrW3X"
      },
      "source": [
        "# Python Operators\n",
        "### Python Operators\n",
        "Operators are used to perform operations on variables and values.\n",
        "\n",
        "Python divides the operators in the following groups:\n",
        "\n",
        "* Arithmetic operators\n",
        "* Assignment operators\n",
        "* Comparison operators\n",
        "* Logical operators\n",
        "* Identity operators\n",
        "* Membership operators\n",
        "* Bitwise operators"
      ]
    },
    {
      "cell_type": "markdown",
      "metadata": {
        "id": "q-DaHYZsrW3X"
      },
      "source": [
        "# Python Lists\n",
        "Lists are used to store multiple items in a single variable.\n",
        "\n",
        "Lists are created using square brackets:"
      ]
    },
    {
      "cell_type": "code",
      "execution_count": null,
      "metadata": {
        "id": "t_nNLu4NrW3Y",
        "outputId": "b0d96d30-9b0e-4c5b-d1ea-31d48f6bd334"
      },
      "outputs": [
        {
          "name": "stdout",
          "output_type": "stream",
          "text": [
            "['apple', 'banana', 'cherry']\n"
          ]
        }
      ],
      "source": [
        "thislist = [\"apple\", \"banana\", \"cherry\"]\n",
        "print(thislist)"
      ]
    },
    {
      "cell_type": "markdown",
      "metadata": {
        "id": "Ukm7UG-8rW3Y"
      },
      "source": [
        "### List Items\n",
        "List items are ordered, changeable, and allow duplicate values.\n",
        "\n",
        "List items are indexed, the first item has index [0], the second item has index [1] etc.\n",
        "\n",
        "### Ordered\n",
        "When we say that lists are ordered, it means that the items have a defined order, and that order will not change.\n",
        "\n",
        "If you add new items to a list, the new items will be placed at the end of the list.\n",
        "\n",
        "**Note**: There are some list methods that will change the order, but in general: the order of the items will not change.\n",
        "\n",
        "### Changeable\n",
        "The list is changeable, meaning that we can change, add, and remove items in a list after it has been created.\n",
        "\n",
        "### List Length\n",
        "To determine how many items a list has, use the len() function:"
      ]
    },
    {
      "cell_type": "code",
      "execution_count": null,
      "metadata": {
        "id": "yxFaV2fVrW3Z",
        "outputId": "052b3c03-d60c-4db3-ec58-3bb675dd052d"
      },
      "outputs": [
        {
          "name": "stdout",
          "output_type": "stream",
          "text": [
            "3\n"
          ]
        }
      ],
      "source": [
        "thislist = [\"apple\", \"banana\", \"cherry\"]\n",
        "print(len(thislist))"
      ]
    },
    {
      "cell_type": "markdown",
      "metadata": {
        "id": "yeamV1bCrW3Z"
      },
      "source": [
        "### List Items - Data Types\n",
        "List items can be of any data type:"
      ]
    },
    {
      "cell_type": "code",
      "execution_count": null,
      "metadata": {
        "id": "SCTkPEMGrW3a",
        "outputId": "88dfee3a-de77-4a82-fb43-0377fd96ad5e"
      },
      "outputs": [
        {
          "name": "stdout",
          "output_type": "stream",
          "text": [
            "['abc', 34, True, 40, 'male']\n"
          ]
        }
      ],
      "source": [
        "list1 = [\"apple\", \"banana\", \"cherry\"]\n",
        "list2 = [1, 5, 7, 9, 3]\n",
        "list3 = [True, False, False]\n",
        "list4 = [\"abc\", 34, True, 40, \"male\"]\n",
        "\n",
        "print(list4)"
      ]
    },
    {
      "cell_type": "markdown",
      "metadata": {
        "id": "hwsd3PQPrW3a"
      },
      "source": [
        "### The list() Constructor\n",
        "It is also possible to use the list() constructor when creating a new list."
      ]
    },
    {
      "cell_type": "code",
      "execution_count": null,
      "metadata": {
        "id": "07nByYJ4rW3b",
        "outputId": "bb7765b0-066f-4a49-a557-0c4d9a778793"
      },
      "outputs": [
        {
          "name": "stdout",
          "output_type": "stream",
          "text": [
            "['12', 'banana', 'cherry']\n"
          ]
        }
      ],
      "source": [
        "thislist = list((\"12\", \"banana\", \"cherry\")) # note the double round-brackets\n",
        "print(thislist)"
      ]
    },
    {
      "cell_type": "markdown",
      "metadata": {
        "id": "a3BMGLburW3b"
      },
      "source": [
        "## Python - Access List Items\n",
        "### Access Items\n",
        "List items are indexed and you can access them by referring to the index number:"
      ]
    },
    {
      "cell_type": "code",
      "execution_count": null,
      "metadata": {
        "id": "zbc-8LX4rW3b",
        "outputId": "f596e897-32b8-4c8a-85b1-e1474b7530c9"
      },
      "outputs": [
        {
          "name": "stdout",
          "output_type": "stream",
          "text": [
            "banana\n"
          ]
        }
      ],
      "source": [
        "thislist = [\"apple\", \"banana\", \"cherry\"]\n",
        "print(thislist[1])"
      ]
    },
    {
      "cell_type": "markdown",
      "metadata": {
        "id": "EZrfH_P3rW3c"
      },
      "source": [
        "### Negative Indexing\n",
        "Negative indexing means start from the end\n",
        "\n",
        "-1 refers to the last item, -2 refers to the second last item etc."
      ]
    },
    {
      "cell_type": "code",
      "execution_count": null,
      "metadata": {
        "id": "T1t0uPRprW3c",
        "outputId": "3915736b-b57b-4a93-d5ae-69141d04b91b"
      },
      "outputs": [
        {
          "name": "stdout",
          "output_type": "stream",
          "text": [
            "cherry\n"
          ]
        }
      ],
      "source": [
        "thislist = [\"apple\", \"banana\", \"cherry\"]\n",
        "print(thislist[-1])"
      ]
    },
    {
      "cell_type": "markdown",
      "metadata": {
        "id": "6M5Ro-VerW3c"
      },
      "source": [
        "### Range of Indexes\n",
        "You can specify a range of indexes by specifying where to start and where to end the range.\n",
        "\n",
        "When specifying a range, the return value will be a new list with the specified items.\n",
        "\n",
        "**Note**: The search will start at index 2 (included) and end at index 5 (not included)."
      ]
    },
    {
      "cell_type": "code",
      "execution_count": null,
      "metadata": {
        "id": "980_CGdJrW3d",
        "outputId": "28885bff-56a2-468b-8b97-30d51b5d63c8"
      },
      "outputs": [
        {
          "name": "stdout",
          "output_type": "stream",
          "text": [
            "['cherry', 'orange', 'kiwi']\n"
          ]
        }
      ],
      "source": [
        "thislist = [\"apple\", \"banana\", \"cherry\", \"orange\", \"kiwi\", \"melon\", \"mango\"]\n",
        "print(thislist[2:5])"
      ]
    },
    {
      "cell_type": "markdown",
      "metadata": {
        "id": "PZE4_MccrW3d"
      },
      "source": [
        "### Check if Item Exists\n",
        "To determine if a specified item is present in a list use the in keyword:"
      ]
    },
    {
      "cell_type": "code",
      "execution_count": null,
      "metadata": {
        "id": "x9Am8RfGrW3e",
        "outputId": "529d4758-7f7c-48b6-afc2-72eb5802e1fa"
      },
      "outputs": [
        {
          "name": "stdout",
          "output_type": "stream",
          "text": [
            "Yes, 'apple' is in the fruits list\n"
          ]
        }
      ],
      "source": [
        "thislist = [\"apple\", \"banana\", \"cherry\"]\n",
        "if \"apple\" in thislist:\n",
        "  print(\"Yes, 'apple' is in the fruits list\")"
      ]
    },
    {
      "cell_type": "markdown",
      "metadata": {
        "id": "mZ_rvXYvrW3e"
      },
      "source": [
        "## Python - Change List Items\n",
        "To change the value of a specific item, refer to the index number:\n",
        "\n"
      ]
    },
    {
      "cell_type": "code",
      "execution_count": null,
      "metadata": {
        "id": "OprJp2XDrW3e",
        "outputId": "9053b9d5-1282-40c6-cfbb-b061cc2c80e8"
      },
      "outputs": [
        {
          "name": "stdout",
          "output_type": "stream",
          "text": [
            "['apple', 'blackcurrant', 'cherry']\n"
          ]
        }
      ],
      "source": [
        "thislist = [\"apple\", \"banana\", \"cherry\"]\n",
        "thislist[1] = \"blackcurrant\"\n",
        "print(thislist)"
      ]
    },
    {
      "cell_type": "markdown",
      "metadata": {
        "id": "4XNT8QJFrW3f"
      },
      "source": [
        "### Change a Range of Item Values\n",
        "To change the value of items within a specific range, define a list with the new values, and refer to the range of index numbers where you want to insert the new values:"
      ]
    },
    {
      "cell_type": "code",
      "execution_count": null,
      "metadata": {
        "id": "237xPWc5rW3f",
        "outputId": "a47d440b-d3e5-4355-b685-0edaf36167ea"
      },
      "outputs": [
        {
          "name": "stdout",
          "output_type": "stream",
          "text": [
            "['apple', 'blackcurrant', 'watermelon', 'orange', 'kiwi', 'mango']\n"
          ]
        }
      ],
      "source": [
        "thislist = [\"apple\", \"banana\", \"cherry\", \"orange\", \"kiwi\", \"mango\"]\n",
        "thislist[1:3] = [\"blackcurrant\", \"watermelon\"]\n",
        "print(thislist)"
      ]
    },
    {
      "cell_type": "markdown",
      "metadata": {
        "id": "OzB87DWNrW3g"
      },
      "source": [
        "### Insert Items\n",
        "To insert a new list item, without replacing any of the existing values, we can use the insert() method.\n",
        "\n",
        "The insert() method inserts an item at the specified index:"
      ]
    },
    {
      "cell_type": "code",
      "execution_count": null,
      "metadata": {
        "id": "4hzLJod7rW3g",
        "outputId": "a37af264-e26d-4090-e0b5-0510f15e3f5c"
      },
      "outputs": [
        {
          "name": "stdout",
          "output_type": "stream",
          "text": [
            "['apple', 'banana', 'watermelon', 'cherry']\n"
          ]
        }
      ],
      "source": [
        "thislist = [\"apple\", \"banana\", \"cherry\"]\n",
        "thislist.insert(-1,\"watermelon\")\n",
        "print(thislist)"
      ]
    },
    {
      "cell_type": "markdown",
      "metadata": {
        "id": "FzkFiBrlrW3h"
      },
      "source": [
        "## Python - Add List Items\n",
        "\n",
        "### Append Items\n",
        "To add an item to the end of the list, use the append() method:"
      ]
    },
    {
      "cell_type": "code",
      "execution_count": null,
      "metadata": {
        "id": "rQc3yyIqrW3h",
        "outputId": "507ec804-ee36-4c16-bb80-011c8e675164"
      },
      "outputs": [
        {
          "name": "stdout",
          "output_type": "stream",
          "text": [
            "['apple', 'banana', 'cherry', 'orange']\n"
          ]
        }
      ],
      "source": [
        "thislist = [\"apple\", \"banana\", \"cherry\"]\n",
        "thislist.append(\"orange\")\n",
        "print(thislist)"
      ]
    },
    {
      "cell_type": "markdown",
      "metadata": {
        "id": "3oJZ5t_PrW3h"
      },
      "source": [
        "### Extend List\n",
        "To append elements from another list to the current list, use the extend() method."
      ]
    },
    {
      "cell_type": "code",
      "execution_count": null,
      "metadata": {
        "id": "6rQykgUVrW3i",
        "outputId": "b2b61248-16fa-43c4-f869-0c8a019f866d"
      },
      "outputs": [
        {
          "name": "stdout",
          "output_type": "stream",
          "text": [
            "['apple', 'banana', 'cherry', 'mango', 'pineapple', 'papaya']\n"
          ]
        }
      ],
      "source": [
        "thislist = [\"apple\", \"banana\", \"cherry\"]\n",
        "tropical = [\"mango\", \"pineapple\", \"papaya\"]\n",
        "x = thislist + tropical\n",
        "print(x)"
      ]
    },
    {
      "cell_type": "markdown",
      "metadata": {
        "id": "rCuCL8UyrW3i"
      },
      "source": [
        "The extend() method does not have to append lists, you can add any iterable object (tuples, sets, dictionaries etc.)."
      ]
    },
    {
      "cell_type": "code",
      "execution_count": null,
      "metadata": {
        "id": "KLlAoWGlrW3i",
        "outputId": "770f50c1-3256-4fb7-82a9-7825b4f9565e"
      },
      "outputs": [
        {
          "name": "stdout",
          "output_type": "stream",
          "text": [
            "['apple', 'banana', 'cherry', 'kiwi', 'orange']\n"
          ]
        }
      ],
      "source": [
        "thislist = [\"apple\", \"banana\", \"cherry\"]\n",
        "thistuple = (\"kiwi\", \"orange\")\n",
        "thislist.extend(thistuple)\n",
        "print(thislist)"
      ]
    },
    {
      "cell_type": "code",
      "execution_count": null,
      "metadata": {
        "id": "xw3QQRAArW3j"
      },
      "outputs": [],
      "source": []
    },
    {
      "cell_type": "markdown",
      "metadata": {
        "id": "tzY9rWNHrW3j"
      },
      "source": [
        "# Python - Remove List Items\n",
        "\n",
        "### Remove Specified Item\n",
        "The remove() method removes the specified item."
      ]
    },
    {
      "cell_type": "code",
      "execution_count": null,
      "metadata": {
        "id": "YmAx3gdUrW3k",
        "outputId": "56005a97-5617-4d21-da86-032092425f87"
      },
      "outputs": [
        {
          "name": "stdout",
          "output_type": "stream",
          "text": [
            "['banana', 'cherry']\n"
          ]
        }
      ],
      "source": [
        "thislist = [\"apple\", \"banana\", \"cherry\"]\n",
        "thislist.remove(\"apple\")\n",
        "print(thislist)"
      ]
    },
    {
      "cell_type": "markdown",
      "metadata": {
        "id": "dTLPL3dvrW3k"
      },
      "source": [
        "### Remove Specified Index\n",
        "The pop() method removes the specified index."
      ]
    },
    {
      "cell_type": "code",
      "execution_count": null,
      "metadata": {
        "id": "r9z6CLxErW3k",
        "outputId": "e4f3eb39-1ab7-4ad8-8c34-eb6453c3bc14"
      },
      "outputs": [
        {
          "name": "stdout",
          "output_type": "stream",
          "text": [
            "['apple', 'cherry']\n"
          ]
        }
      ],
      "source": [
        "thislist = [\"apple\", \"banana\", \"cherry\"]\n",
        "thislist.pop(1)\n",
        "print(thislist)"
      ]
    },
    {
      "cell_type": "markdown",
      "metadata": {
        "id": "O9Z8U9MHrW3l"
      },
      "source": [
        "If you do not specify the index, the pop() method removes the last item."
      ]
    },
    {
      "cell_type": "code",
      "execution_count": null,
      "metadata": {
        "id": "H_qC01M1rW3l",
        "outputId": "cf9664d0-6e72-4cdc-8e29-3eef97751c6b"
      },
      "outputs": [
        {
          "name": "stdout",
          "output_type": "stream",
          "text": [
            "['apple', 'banana']\n"
          ]
        }
      ],
      "source": [
        "thislist = [\"apple\", \"banana\", \"cherry\"]\n",
        "thislist.pop()\n",
        "print(thislist)"
      ]
    },
    {
      "cell_type": "markdown",
      "metadata": {
        "id": "yUt6pgzzrW3l"
      },
      "source": [
        "The **del** keyword also removes the specified index:"
      ]
    },
    {
      "cell_type": "code",
      "execution_count": null,
      "metadata": {
        "id": "3apsvXq5rW3m",
        "outputId": "190d1875-fadc-4f87-95da-d0af1bb066c3"
      },
      "outputs": [
        {
          "name": "stdout",
          "output_type": "stream",
          "text": [
            "['banana', 'cherry']\n"
          ]
        }
      ],
      "source": [
        "thislist = [\"apple\", \"banana\", \"cherry\"]\n",
        "del thislist[0]\n",
        "print(thislist)"
      ]
    },
    {
      "cell_type": "markdown",
      "metadata": {
        "id": "hio1JVArrW3m"
      },
      "source": [
        "The **del** keyword can also delete the list completely."
      ]
    },
    {
      "cell_type": "code",
      "execution_count": null,
      "metadata": {
        "id": "B16P98d0rW3n",
        "outputId": "9ce4c746-248d-4df5-fb8e-340d9ddc6b64"
      },
      "outputs": [
        {
          "ename": "NameError",
          "evalue": "name 'thislist' is not defined",
          "output_type": "error",
          "traceback": [
            "\u001b[1;31m---------------------------------------------------------------------------\u001b[0m",
            "\u001b[1;31mNameError\u001b[0m                                 Traceback (most recent call last)",
            "Cell \u001b[1;32mIn [52], line 3\u001b[0m\n\u001b[0;32m      1\u001b[0m thislist \u001b[38;5;241m=\u001b[39m [\u001b[38;5;124m\"\u001b[39m\u001b[38;5;124mapple\u001b[39m\u001b[38;5;124m\"\u001b[39m, \u001b[38;5;124m\"\u001b[39m\u001b[38;5;124mbanana\u001b[39m\u001b[38;5;124m\"\u001b[39m, \u001b[38;5;124m\"\u001b[39m\u001b[38;5;124mcherry\u001b[39m\u001b[38;5;124m\"\u001b[39m]\n\u001b[0;32m      2\u001b[0m \u001b[38;5;28;01mdel\u001b[39;00m thislist\n\u001b[1;32m----> 3\u001b[0m \u001b[38;5;28mprint\u001b[39m(\u001b[43mthislist\u001b[49m)\n",
            "\u001b[1;31mNameError\u001b[0m: name 'thislist' is not defined"
          ]
        }
      ],
      "source": [
        "thislist = [\"apple\", \"banana\", \"cherry\"]\n",
        "del thislist\n",
        "print(thislist)"
      ]
    },
    {
      "cell_type": "markdown",
      "metadata": {
        "id": "p5MXH2w_rW3n"
      },
      "source": [
        "### Clear the List\n",
        "The clear() method empties the list.\n",
        "\n",
        "The list still remains, but it has no content."
      ]
    },
    {
      "cell_type": "code",
      "execution_count": null,
      "metadata": {
        "id": "zeJjbCTIrW3n",
        "outputId": "434aebe3-da20-421a-add8-7f347bf483d5"
      },
      "outputs": [
        {
          "name": "stdout",
          "output_type": "stream",
          "text": [
            "[]\n"
          ]
        }
      ],
      "source": [
        "thislist = [\"apple\", \"banana\", \"cherry\"]\n",
        "thislist.clear()\n",
        "print(thislist)"
      ]
    },
    {
      "cell_type": "markdown",
      "metadata": {
        "id": "6-STbkAcrW3o"
      },
      "source": [
        "## Python - Sort Lists\n",
        "List objects have a sort() method that will sort the list alphanumerically, ascending, by default:\n",
        "\n",
        "To sort descending, use the keyword argument reverse = True:\n",
        "\n"
      ]
    },
    {
      "cell_type": "code",
      "execution_count": null,
      "metadata": {
        "id": "Jj3TzPwFrW3o",
        "outputId": "3d3b098d-79f6-4366-d6cd-b7b29eedbe3d"
      },
      "outputs": [
        {
          "name": "stdout",
          "output_type": "stream",
          "text": [
            "['pineapple', 'orange', 'mango', 'kiwi', 'banana']\n"
          ]
        }
      ],
      "source": [
        "thislist = [\"orange\", \"mango\", \"kiwi\", \"pineapple\", \"banana\"]\n",
        "thislist.sort(reverse = True)\n",
        "print(thislist)"
      ]
    },
    {
      "cell_type": "markdown",
      "metadata": {
        "id": "H1HtMCYfrW3p"
      },
      "source": [
        "## Python - Join Lists\n",
        "There are several ways to join, or concatenate, two or more lists in Python.\n",
        "\n",
        "One of the easiest ways are by using the + operator."
      ]
    },
    {
      "cell_type": "code",
      "execution_count": null,
      "metadata": {
        "id": "OtB1SXldrW3p",
        "outputId": "633e1208-643f-4638-ba4b-aa7a33b90491"
      },
      "outputs": [
        {
          "name": "stdout",
          "output_type": "stream",
          "text": [
            "['a', 'b', 'c', 1, 2, 3]\n"
          ]
        }
      ],
      "source": [
        "list1 = [\"a\", \"b\", \"c\"]\n",
        "list2 = [1, 2, 3]\n",
        "\n",
        "list3 = list1 + list2\n",
        "print(list3)"
      ]
    },
    {
      "cell_type": "markdown",
      "metadata": {
        "id": "YhnvomyFrW3q"
      },
      "source": [
        "Another way to join two lists is by appending all the items from list2 into list1, one by one\n",
        "Use append function and for loop\n",
        "\n",
        "Or you can use the extend() method, which purpose is to add elements from one list to another list"
      ]
    },
    {
      "cell_type": "markdown",
      "metadata": {
        "id": "VajfvzTJrW3q"
      },
      "source": [
        "## Python - List Methods"
      ]
    },
    {
      "cell_type": "markdown",
      "metadata": {
        "id": "nHZ4mutarW3r"
      },
      "source": [
        "![image.png](attachment:image.png)"
      ]
    },
    {
      "cell_type": "markdown",
      "metadata": {
        "id": "2zEZDLbarW3r"
      },
      "source": [
        "# Python Tuples\n",
        "Tuples are used to store multiple items in a single variable.\n",
        "\n",
        "A tuple is a collection which is ordered and unchangeable.\n",
        "\n",
        "Tuples are written with round brackets."
      ]
    },
    {
      "cell_type": "code",
      "execution_count": null,
      "metadata": {
        "id": "HgpmFZhbrW3s",
        "outputId": "61f129b8-6b86-40c3-93da-5d30d1066dbc"
      },
      "outputs": [
        {
          "name": "stdout",
          "output_type": "stream",
          "text": [
            "('apple', 'banana', 'cherry')\n"
          ]
        }
      ],
      "source": [
        "thistuple = (\"apple\", \"banana\", \"cherry\")\n",
        "print(thistuple)"
      ]
    },
    {
      "cell_type": "markdown",
      "metadata": {
        "id": "Ce0jVLy_rW3t"
      },
      "source": [
        "## Tuple Items\n",
        "Tuple items are ordered, unchangeable, and allow duplicate values.\n",
        "\n",
        "Tuple items are indexed, the first item has index [0], the second item has index [1] etc.\n",
        "\n",
        "### Unchangeable\n",
        "Tuples are unchangeable, meaning that we cannot change, add or remove items after the tuple has been created.\n"
      ]
    },
    {
      "cell_type": "markdown",
      "metadata": {
        "id": "PVT0Q5AJrW3u"
      },
      "source": [
        "### Create Tuple With One Item\n",
        "**IMPORTANT**\n",
        "\n",
        "To create a tuple with only one item, you have to add a comma after the item, otherwise Python will not recognize it as a tuple."
      ]
    },
    {
      "cell_type": "markdown",
      "metadata": {
        "id": "68EAq9iErW3u"
      },
      "source": [
        "### The tuple() Constructor\n",
        "It is also possible to use the tuple() constructor to make a tuple."
      ]
    },
    {
      "cell_type": "code",
      "execution_count": null,
      "metadata": {
        "id": "LupOpX0PrW3u",
        "outputId": "f1af45fc-28a4-4364-beeb-b7c4e0c91cad"
      },
      "outputs": [
        {
          "name": "stdout",
          "output_type": "stream",
          "text": [
            "('abc', [1, 2])\n"
          ]
        }
      ],
      "source": [
        "thistuple = (\"abc\",[1,2]) # note the double round-brackets\n",
        "print(thistuple)"
      ]
    },
    {
      "cell_type": "markdown",
      "metadata": {
        "id": "mgJEyrDHrW3v"
      },
      "source": [
        "## Python - Update Tuples\n",
        "\n",
        "Once a tuple is created, you cannot change its values. Tuples are unchangeable, or immutable as it also is called.\n",
        "\n",
        "\n"
      ]
    },
    {
      "cell_type": "markdown",
      "metadata": {
        "id": "I6O8_PswrW3v"
      },
      "source": [
        "## Python - Unpack Tuples\n",
        "Unpacking a Tuple\n",
        "\n",
        "When we create a tuple, we normally assign values to it. This is called \"packing\" a tuple"
      ]
    },
    {
      "cell_type": "markdown",
      "metadata": {
        "id": "C8-UhDqUrW3w"
      },
      "source": [
        "But, in Python, we are also allowed to extract the values back into variables. This is called \"unpacking\""
      ]
    },
    {
      "cell_type": "code",
      "execution_count": null,
      "metadata": {
        "id": "W6oX-tk6rW3w",
        "outputId": "d5668121-59d0-4ad9-ff89-246eeb1d4ac9"
      },
      "outputs": [
        {
          "name": "stdout",
          "output_type": "stream",
          "text": [
            "apple\n",
            "banana\n",
            "cherry\n"
          ]
        }
      ],
      "source": [
        "fruits = (\"apple\", \"banana\", \"cherry\")\n",
        "\n",
        "[green, yellow, red] = fruits\n",
        "\n",
        "print(green)\n",
        "print(yellow)\n",
        "print(red)"
      ]
    },
    {
      "cell_type": "markdown",
      "metadata": {
        "id": "W1CwnK4jrW3x"
      },
      "source": [
        "### Using Asterisk*\n",
        "If the number of variables is less than the number of values, you can add an * to the variable name and the values will be assigned to the variable as a list:"
      ]
    },
    {
      "cell_type": "code",
      "execution_count": null,
      "metadata": {
        "id": "-WYtzWOZrW3x",
        "outputId": "23d60fa1-7e27-4493-870f-f365f4b66269"
      },
      "outputs": [
        {
          "name": "stdout",
          "output_type": "stream",
          "text": [
            "apple\n",
            "banana\n",
            "['cherry', 'strawberry', 'raspberry']\n",
            "cherry strawberry raspberry\n",
            "<class 'list'>\n"
          ]
        }
      ],
      "source": [
        "fruits = (\"apple\", \"banana\", \"cherry\", \"strawberry\", \"raspberry\")\n",
        "\n",
        "(green, yellow, *red) = fruits\n",
        "\n",
        "print(green)\n",
        "print(yellow)\n",
        "print(red)\n",
        "print(*red)\n",
        "print(type(red))"
      ]
    },
    {
      "cell_type": "code",
      "execution_count": null,
      "metadata": {
        "id": "6XqeovlIrW3x",
        "outputId": "a7c5ea1f-a6ad-4971-8052-d6aff5b490d8"
      },
      "outputs": [
        {
          "name": "stdout",
          "output_type": "stream",
          "text": [
            "apple\n",
            "['mango', 'papaya', 'pineapple']\n",
            "cherry\n"
          ]
        }
      ],
      "source": [
        "fruits = (\"apple\", \"mango\", \"papaya\", \"pineapple\", \"cherry\")\n",
        "\n",
        "(green, *tropic, red) = fruits\n",
        "\n",
        "print(green)\n",
        "print(tropic)\n",
        "print(red)"
      ]
    },
    {
      "cell_type": "markdown",
      "metadata": {
        "id": "R5LzfK-yrW3y"
      },
      "source": [
        "# Python Sets\n",
        "Sets are used to store multiple items in a single variable.\n",
        "\n",
        "A set is a collection which is unordered, unchangeable*, and unindexed.\n",
        "\n",
        "**Note**: Set items are unchangeable, but you can remove items and add new items."
      ]
    },
    {
      "cell_type": "code",
      "execution_count": null,
      "metadata": {
        "id": "YM-LqGIkrW3y",
        "outputId": "674b9f30-5800-4e19-cd9c-2f65a17efb81"
      },
      "outputs": [
        {
          "name": "stdout",
          "output_type": "stream",
          "text": [
            "{'banana', 'apple', 'cherry'}\n"
          ]
        }
      ],
      "source": [
        "thisset = {\"apple\", \"banana\", \"cherry\"}\n",
        "print(thisset)"
      ]
    },
    {
      "cell_type": "markdown",
      "metadata": {
        "id": "DKFqQGcorW3z"
      },
      "source": [
        "### Duplicates Not Allowed\n",
        "Sets cannot have two items with the same value."
      ]
    },
    {
      "cell_type": "code",
      "execution_count": null,
      "metadata": {
        "id": "fl0Vng55rW3z",
        "outputId": "8fab630b-2237-44ef-93c0-69ca3d8dac65"
      },
      "outputs": [
        {
          "name": "stdout",
          "output_type": "stream",
          "text": [
            "{'banana', 'apple', 'cherry'}\n"
          ]
        }
      ],
      "source": [
        "thisset = {\"apple\", \"banana\", \"cherry\", \"apple\"}\n",
        "\n",
        "print(thisset)"
      ]
    },
    {
      "cell_type": "markdown",
      "metadata": {
        "id": "HAZXBU4grW30"
      },
      "source": [
        "### The set() Constructor\n",
        "It is also possible to use the set() constructor to make a set."
      ]
    },
    {
      "cell_type": "code",
      "execution_count": null,
      "metadata": {
        "id": "1WD2iVHNrW30",
        "outputId": "872c4448-8355-4520-8784-9ba5bb31d49f"
      },
      "outputs": [
        {
          "name": "stdout",
          "output_type": "stream",
          "text": [
            "{'banana', 'apple', 'cherry'}\n"
          ]
        }
      ],
      "source": [
        "thisset = set((\"apple\", \"banana\", \"cherry\")) # note the double round-brackets\n",
        "print(thisset)"
      ]
    },
    {
      "cell_type": "markdown",
      "metadata": {
        "id": "M2w9tu7NrW31"
      },
      "source": [
        "## Python - Access Set Items\n",
        "\n",
        "### Access Items\n",
        "\n",
        "You cannot access items in a set by referring to an index or a key.\n"
      ]
    },
    {
      "cell_type": "markdown",
      "metadata": {
        "id": "oC6_BDVRrW31"
      },
      "source": [
        "## Python - Add Set Items\n",
        "To add one item to a set use the add() method."
      ]
    },
    {
      "cell_type": "code",
      "execution_count": null,
      "metadata": {
        "id": "FExMyIx1rW32",
        "outputId": "fff4c2cb-4198-41e1-fe21-3a4b5073f8f1"
      },
      "outputs": [
        {
          "name": "stdout",
          "output_type": "stream",
          "text": [
            "{'banana', 'apple', 'cherry', 'orange'}\n"
          ]
        }
      ],
      "source": [
        "thisset = {\"apple\", \"banana\", \"cherry\"}\n",
        "\n",
        "thisset.add(\"orange\")\n",
        "\n",
        "print(thisset)"
      ]
    },
    {
      "cell_type": "markdown",
      "metadata": {
        "id": "O3pMA2NErW33"
      },
      "source": [
        "### Add Sets\n",
        "To add items from another set into the current set, use the update() method."
      ]
    },
    {
      "cell_type": "code",
      "execution_count": null,
      "metadata": {
        "id": "8c-gPRBSrW33",
        "outputId": "e8bf582c-eb3d-4ea6-943a-108ebd4f6533"
      },
      "outputs": [
        {
          "name": "stdout",
          "output_type": "stream",
          "text": [
            "{'mango', 'banana', 'apple', 'papaya', 'cherry', 'pineapple'}\n"
          ]
        }
      ],
      "source": [
        "thisset = {\"apple\", \"banana\", \"cherry\"}\n",
        "tropical = {\"pineapple\", \"mango\", \"papaya\"}\n",
        "\n",
        "thisset.update(tropical)\n",
        "\n",
        "print(thisset)"
      ]
    },
    {
      "cell_type": "markdown",
      "metadata": {
        "id": "J_0EXUcZrW33"
      },
      "source": [
        "## Python - Remove Set Items\n",
        "\n",
        "To remove an item in a set, use the remove(), or the discard() method.\n",
        "\n",
        "**Note**: If the item to remove does not exist, remove() will raise an error.\n",
        "\n",
        "**Note**: If the item to remove does not exist, discard() will NOT raise an error."
      ]
    },
    {
      "cell_type": "code",
      "execution_count": null,
      "metadata": {
        "id": "LpXm2XtOrW34",
        "outputId": "8b8d73bb-2d3a-47fe-f004-8094b734eee7"
      },
      "outputs": [
        {
          "ename": "KeyError",
          "evalue": "'iiii'",
          "output_type": "error",
          "traceback": [
            "\u001b[1;31m---------------------------------------------------------------------------\u001b[0m",
            "\u001b[1;31mKeyError\u001b[0m                                  Traceback (most recent call last)",
            "Cell \u001b[1;32mIn [67], line 3\u001b[0m\n\u001b[0;32m      1\u001b[0m thisset \u001b[38;5;241m=\u001b[39m {\u001b[38;5;124m\"\u001b[39m\u001b[38;5;124mapple\u001b[39m\u001b[38;5;124m\"\u001b[39m, \u001b[38;5;124m\"\u001b[39m\u001b[38;5;124mbanana\u001b[39m\u001b[38;5;124m\"\u001b[39m, \u001b[38;5;124m\"\u001b[39m\u001b[38;5;124mcherry\u001b[39m\u001b[38;5;124m\"\u001b[39m}\n\u001b[1;32m----> 3\u001b[0m \u001b[43mthisset\u001b[49m\u001b[38;5;241;43m.\u001b[39;49m\u001b[43mremove\u001b[49m\u001b[43m(\u001b[49m\u001b[38;5;124;43m\"\u001b[39;49m\u001b[38;5;124;43miiii\u001b[39;49m\u001b[38;5;124;43m\"\u001b[39;49m\u001b[43m)\u001b[49m\n\u001b[0;32m      5\u001b[0m \u001b[38;5;28mprint\u001b[39m(thisset)\n",
            "\u001b[1;31mKeyError\u001b[0m: 'iiii'"
          ]
        }
      ],
      "source": [
        "thisset = {\"apple\", \"banana\", \"cherry\"}\n",
        "\n",
        "thisset.remove(\"iiii\")\n",
        "\n",
        "print(thisset)"
      ]
    },
    {
      "cell_type": "code",
      "execution_count": null,
      "metadata": {
        "id": "sIcZn0XPrW34",
        "outputId": "a2ca703a-0f2d-484b-c404-f033f605696a"
      },
      "outputs": [
        {
          "name": "stdout",
          "output_type": "stream",
          "text": [
            "{'banana', 'apple', 'cherry'}\n"
          ]
        }
      ],
      "source": [
        "thisset = {\"apple\", \"banana\", \"cherry\"}\n",
        "\n",
        "thisset.discard(\"iiii\")\n",
        "\n",
        "print(thisset)"
      ]
    },
    {
      "cell_type": "markdown",
      "metadata": {
        "id": "cmI1WfwprW35"
      },
      "source": [
        "**IMPORTANT**\n",
        "\n",
        "You can also use the pop() method to remove an item, but this method will remove the last item. Remember that sets are unordered, so you will not know what item that gets removed.\n",
        "\n",
        "The return value of the pop() method is the removed item.\n",
        "\n",
        "\n",
        "### The clear() method empties the set:"
      ]
    },
    {
      "cell_type": "code",
      "execution_count": null,
      "metadata": {
        "id": "NHhWL2ZYrW35",
        "outputId": "4b9b779d-5f43-47d4-b3c6-2cd1c1609578"
      },
      "outputs": [
        {
          "name": "stdout",
          "output_type": "stream",
          "text": [
            "set()\n"
          ]
        }
      ],
      "source": [
        "thisset = {\"apple\", \"banana\", \"cherry\"}\n",
        "\n",
        "thisset.clear()\n",
        "\n",
        "print(thisset)"
      ]
    },
    {
      "cell_type": "markdown",
      "metadata": {
        "id": "f7OZuR7zrW36"
      },
      "source": [
        "The **del** keyword will delete the set completely:"
      ]
    },
    {
      "cell_type": "code",
      "execution_count": null,
      "metadata": {
        "id": "wj7oNfP7rW36"
      },
      "outputs": [],
      "source": [
        "# thisset = {\"apple\", \"banana\", \"cherry\"}\n",
        "\n",
        "# del thisset\n",
        "\n",
        "# print(thisset)"
      ]
    },
    {
      "cell_type": "markdown",
      "metadata": {
        "id": "nbiyarx2rW38"
      },
      "source": [
        "## Python - Join Sets\n",
        "There are several ways to join two or more sets in Python.\n",
        "\n",
        "You can use the union() method that returns a new set containing all items from both sets, or the update() method that inserts all the items from one set into another\n",
        "\n",
        "The **union()** method returns a new set with all items from both sets:"
      ]
    },
    {
      "cell_type": "code",
      "execution_count": null,
      "metadata": {
        "id": "WO4UPJa4rW39",
        "outputId": "2b0a04e5-803d-422d-e42a-2470bd34c7ba"
      },
      "outputs": [
        {
          "name": "stdout",
          "output_type": "stream",
          "text": [
            "{1, 2, 3, 'a', 'c', 'b'}\n"
          ]
        }
      ],
      "source": [
        "set1 = {\"a\", \"b\" , \"c\"}\n",
        "set2 = {1, 2, 3}\n",
        "\n",
        "set3 = set1.union(set2)\n",
        "print(set3)"
      ]
    },
    {
      "cell_type": "markdown",
      "metadata": {
        "id": "baRv8rXerW3_"
      },
      "source": [
        "The **update()** method inserts the items in set2 into set1:"
      ]
    },
    {
      "cell_type": "code",
      "execution_count": null,
      "metadata": {
        "id": "v-iLwRvNrW3_",
        "outputId": "639a844c-c7ab-458a-f1d0-58bed8e42704"
      },
      "outputs": [
        {
          "name": "stdout",
          "output_type": "stream",
          "text": [
            "{1, 2, 3, 'a', 'c', 'b'}\n"
          ]
        }
      ],
      "source": [
        "set1 = {\"a\", \"b\" , \"c\"}\n",
        "set2 = {1, 2, 3}\n",
        "\n",
        "set1.update(set2)\n",
        "print(set1)"
      ]
    },
    {
      "cell_type": "markdown",
      "metadata": {
        "id": "JrzrNIX4rW4A"
      },
      "source": [
        "**Note**: Both union() and update() will exclude any duplicate items."
      ]
    },
    {
      "cell_type": "markdown",
      "metadata": {
        "id": "yyHtmUCqrW4A"
      },
      "source": [
        "## Keep ONLY the Duplicates\n",
        "The intersection_update() method will keep only the items that are present in both sets."
      ]
    },
    {
      "cell_type": "code",
      "execution_count": null,
      "metadata": {
        "id": "duM0jbyDrW4B",
        "outputId": "4dbe13e7-079e-4062-9a56-3c9243faf68f"
      },
      "outputs": [
        {
          "name": "stdout",
          "output_type": "stream",
          "text": [
            "{'apple'}\n"
          ]
        }
      ],
      "source": [
        "x = {\"apple\", \"banana\", \"cherry\"}\n",
        "y = {\"google\", \"microsoft\", \"apple\"}\n",
        "\n",
        "x.intersection_update(y)\n",
        "\n",
        "print(x)"
      ]
    },
    {
      "cell_type": "markdown",
      "metadata": {
        "id": "Nkdnp6etrW4B"
      },
      "source": [
        "The **intersection()** method will return a new set, that only contains the items that are present in both sets."
      ]
    },
    {
      "cell_type": "code",
      "execution_count": null,
      "metadata": {
        "id": "KLFZPDCdrW4B",
        "outputId": "31108a7b-db51-4aa9-9a6d-a261abf70528"
      },
      "outputs": [
        {
          "name": "stdout",
          "output_type": "stream",
          "text": [
            "{'apple'}\n"
          ]
        }
      ],
      "source": [
        "x = {\"apple\", \"banana\", \"cherry\"}\n",
        "y = {\"google\", \"microsoft\", \"apple\"}\n",
        "\n",
        "z = x.intersection(y)\n",
        "\n",
        "print(z)"
      ]
    },
    {
      "cell_type": "markdown",
      "metadata": {
        "id": "ouuZYEdarW4C"
      },
      "source": [
        "### Keep All, But NOT the Duplicates\n",
        "The symmetric_difference_update() method will keep only the elements that are NOT present in both sets."
      ]
    },
    {
      "cell_type": "markdown",
      "metadata": {
        "id": "57OESXx_rW4C"
      },
      "source": [
        "The **symmetric_difference()** method will return a new set, that contains only the elements that are NOT present in both sets."
      ]
    },
    {
      "cell_type": "markdown",
      "metadata": {
        "id": "sbAq6vEkrW4C"
      },
      "source": [
        "## Set Methods\n",
        "\n",
        "![image.png](attachment:image.png)"
      ]
    },
    {
      "cell_type": "markdown",
      "metadata": {
        "id": "U5rRnlPnrW4D"
      },
      "source": [
        "# Python Dictionaries\n",
        "\n",
        "Dictionaries are used to store data values in key:value pairs.\n",
        "\n",
        "A dictionary is a collection which is ordered, changeable and do not allow duplicates.\n",
        "\n",
        "Dictionaries are written with curly brackets, and have keys and values:"
      ]
    },
    {
      "cell_type": "code",
      "execution_count": null,
      "metadata": {
        "id": "h6hxeES8rW4D",
        "outputId": "120522ee-eee0-4e19-a03b-a65c24a871a2"
      },
      "outputs": [
        {
          "name": "stdout",
          "output_type": "stream",
          "text": [
            "{'brand': 'Ford', 'model': 'Mustang', 'year': 1964}\n"
          ]
        }
      ],
      "source": [
        "thisdict = {\n",
        "  \"brand\": \"Ford\",\n",
        "  \"model\": \"Mustang\",\n",
        "  \"year\": 1964\n",
        "}\n",
        "print(thisdict)"
      ]
    },
    {
      "cell_type": "markdown",
      "metadata": {
        "id": "Op7Uqz0PrW4D"
      },
      "source": [
        "### Dictionary Items\n",
        "Dictionary items are ordered, changeable, and does not allow duplicates.\n",
        "\n",
        "Dictionaries are changeable, meaning that we can change, add or remove items after the dictionary has been created.\n",
        "\n",
        "When we say that dictionaries are ordered, it means that the items have a defined order, and that order will not change.\n",
        "\n",
        "##### Duplicates Not Allowed\n",
        "Dictionaries cannot have two items with the same key\n",
        "\n",
        "a dictionary key must be of a type that is immutable. For example, you can use an integer, float, string, or Boolean as a dictionary key. However, neither a list nor another dictionary can serve as a dictionary key\n",
        "\n",
        "The values in dictionary items can be of any data type\n",
        "\n",
        "Dictionary items are presented in key:value pairs, and can be referred to by using the key name."
      ]
    },
    {
      "cell_type": "code",
      "execution_count": null,
      "metadata": {
        "id": "eaOjKQVwrW4E",
        "outputId": "5729c257-1f5c-436b-f679-ee207bda75e0"
      },
      "outputs": [
        {
          "name": "stdout",
          "output_type": "stream",
          "text": [
            "{('a', 'b'): 'Ford', 'model': 'Mustang', 'year': 1964}\n"
          ]
        }
      ],
      "source": [
        "thisdict = {\n",
        "  ('a','b'): \"Ford\",\n",
        "  \"model\": \"Mustang\",\n",
        "  \"year\": 1964\n",
        "}\n",
        "print(thisdict)"
      ]
    },
    {
      "cell_type": "markdown",
      "metadata": {
        "id": "C2AQV2lkrW4E"
      },
      "source": [
        "### Access Dictionary Items\n",
        "You can access the items of a dictionary by referring to its key name, inside square brackets\n",
        "\n",
        "There is also a method called get() that will give you the same result\n",
        "\n",
        "\n",
        "### Get Keys\n",
        "The keys() method will return a list of all the keys in the dictionary."
      ]
    },
    {
      "cell_type": "code",
      "execution_count": null,
      "metadata": {
        "id": "5iIDpWc4rW4F",
        "outputId": "8498126b-74e3-46f7-9148-57fd84672cd2"
      },
      "outputs": [
        {
          "name": "stdout",
          "output_type": "stream",
          "text": [
            "dict_keys(['brand', 'model', 'year'])\n",
            "model\n"
          ]
        }
      ],
      "source": [
        "thisdict = {\n",
        "  \"brand\": \"Ford\",\n",
        "  \"model\": \"Mustang\",\n",
        "  \"year\": 1964\n",
        "}\n",
        "\n",
        "x = thisdict.keys()\n",
        "print(x)\n",
        "print(list(x)[1])\n"
      ]
    },
    {
      "cell_type": "markdown",
      "metadata": {
        "id": "UMC-Ol_orW4F"
      },
      "source": [
        "### Get Values\n",
        "The values() method will return a list of all the values in the dictionary."
      ]
    },
    {
      "cell_type": "code",
      "execution_count": null,
      "metadata": {
        "id": "S1xlQHEArW4G",
        "outputId": "aa116661-010b-4b1d-f2d7-6c33068512a2"
      },
      "outputs": [
        {
          "name": "stdout",
          "output_type": "stream",
          "text": [
            "<class 'dict_values'>\n",
            "dict_values(['Ford', 'Mustang', 1964])\n"
          ]
        }
      ],
      "source": [
        "thisdict = {\n",
        "  \"brand\": \"Ford\",\n",
        "  \"model\": \"Mustang\",\n",
        "  \"year\": 1964\n",
        "}\n",
        "\n",
        "x = thisdict.values()\n",
        "print(type(x))\n",
        "print(x)"
      ]
    },
    {
      "cell_type": "markdown",
      "metadata": {
        "id": "wA7kNSt2rW4G"
      },
      "source": [
        "### Get Items\n",
        "The items() method will return each item in a dictionary, as tuples in a list."
      ]
    },
    {
      "cell_type": "code",
      "execution_count": null,
      "metadata": {
        "id": "CSoPAEm4rW4G",
        "outputId": "426443fe-dcb5-4dd7-ed63-a389ef21f97f"
      },
      "outputs": [
        {
          "name": "stdout",
          "output_type": "stream",
          "text": [
            "dict_items([('brand', 'Ford'), ('model', 'Mustang'), ('year', 1964)])\n"
          ]
        }
      ],
      "source": [
        "thisdict = {\n",
        "  \"brand\": \"Ford\",\n",
        "  \"model\": \"Mustang\",\n",
        "  \"year\": 1964\n",
        "}\n",
        "\n",
        "x = thisdict.items()\n",
        "print(x)"
      ]
    },
    {
      "cell_type": "markdown",
      "metadata": {
        "id": "uxec23sMrW4H"
      },
      "source": [
        "### Change Dictionary Items\n",
        "\n",
        "You can change the value of a specific item by referring to its key name\n",
        "thisdict[\"year\"] = 2018\n",
        "\n",
        "### Update Dictionary\n",
        "The update() method will update the dictionary with the items from the given argument.\n",
        "\n",
        "The argument must be a dictionary, or an iterable object with key:value pairs.\n",
        "\n",
        "thisdict.update({\"year\": 2020})\n",
        "\n"
      ]
    },
    {
      "cell_type": "markdown",
      "metadata": {
        "id": "x47F3sh-rW4H"
      },
      "source": [
        "### Add Items and Remove Items\n",
        "Try to search and practice pretty straightforward"
      ]
    },
    {
      "cell_type": "markdown",
      "metadata": {
        "id": "Ay8Ixq0QrW4I"
      },
      "source": [
        "## Nested Dictionaries\n",
        "A dictionary can contain dictionaries, this is called nested dictionaries."
      ]
    },
    {
      "cell_type": "code",
      "execution_count": null,
      "metadata": {
        "id": "kDtiGfZLrW4I"
      },
      "outputs": [],
      "source": [
        "myfamily = {\n",
        "  \"child1\" : {\n",
        "    \"name\" : \"Emil\",\n",
        "    \"year\" : 2004\n",
        "  },\n",
        "  \"child2\" : {\n",
        "    \"name\" : \"Tobias\",\n",
        "    \"year\" : 2007\n",
        "  },\n",
        "  \"child3\" : {\n",
        "    \"name\" : \"Linus\",\n",
        "    \"year\" : 2011\n",
        "  }\n",
        "}"
      ]
    },
    {
      "cell_type": "markdown",
      "metadata": {
        "id": "I7zlm4aIrW4I"
      },
      "source": [
        "### Dictionary methods\n",
        "![image.png](attachment:image.png)"
      ]
    },
    {
      "cell_type": "markdown",
      "metadata": {
        "id": "Wms5BjYRrW4J"
      },
      "source": [
        "# If-Else\n",
        "\n",
        "The if statement alone tells us that if a condition is true it will execute a block of statements and if the condition is false it won’t"
      ]
    },
    {
      "cell_type": "code",
      "execution_count": null,
      "metadata": {
        "id": "uO0Zd7D5rW4J"
      },
      "outputs": [],
      "source": [
        "a = 33\n",
        "b = 200\n",
        "if b > a:\n",
        "  print(\"b is greater than a\")\n",
        "else:\n",
        "  print(\"a is greater than b\")"
      ]
    },
    {
      "cell_type": "markdown",
      "metadata": {
        "id": "IFj4Y1surW4K"
      },
      "source": [
        "# INDENTATION\n",
        "Python relies on indentation (whitespace at the beginning of a line) to define scope in the code.\n",
        "\n",
        "#### elif\n",
        "\n",
        "#### else"
      ]
    },
    {
      "cell_type": "markdown",
      "metadata": {
        "id": "706zm8Y6rW4K"
      },
      "source": [
        "#### Short Hand If\n",
        "If you have only one statement to execute, you can put it on the same line as the if statement."
      ]
    },
    {
      "cell_type": "code",
      "execution_count": null,
      "metadata": {
        "id": "YfdQiEFArW4L"
      },
      "outputs": [],
      "source": [
        "if a > b: print(\"a is greater than b\")"
      ]
    },
    {
      "cell_type": "markdown",
      "metadata": {
        "id": "bi-9swDfrW4M"
      },
      "source": [
        "#### Short Hand If ... Else\n",
        "\n",
        "**This technique is known as Ternary Operators, or Conditional Expressions.**\n",
        "\n",
        "If you have only one statement to execute, one for if, and one for else, you can put it all on the same line:"
      ]
    },
    {
      "cell_type": "code",
      "execution_count": null,
      "metadata": {
        "id": "hNgpvwzWrW4N"
      },
      "outputs": [],
      "source": [
        "a = 2\n",
        "b = 330\n",
        "print(\"A\") if a > b else print(\"B\")"
      ]
    },
    {
      "cell_type": "markdown",
      "metadata": {
        "id": "VfQrWRL1rW4N"
      },
      "source": [
        "# Python While Loops\n",
        "With the while loop we can execute a set of statements as long as a condition is true.\n",
        "\n",
        "The while loop requires relevant variables to be ready, in this example we need to define an indexing variable, i, which we set to 1."
      ]
    },
    {
      "cell_type": "code",
      "execution_count": null,
      "metadata": {
        "id": "62PMRVy9rW4O",
        "outputId": "2acd0de7-a59b-4599-d670-ee9e4704f20a"
      },
      "outputs": [
        {
          "name": "stdout",
          "output_type": "stream",
          "text": [
            "1\n",
            "2\n",
            "3\n",
            "4\n",
            "5\n"
          ]
        }
      ],
      "source": [
        "i = 1\n",
        "while i < 6:\n",
        "  print(i)\n",
        "  i += 1"
      ]
    },
    {
      "cell_type": "markdown",
      "metadata": {
        "id": "4j3odepDrW4P"
      },
      "source": [
        "### The break Statement\n",
        "With the break statement we can stop the loop even if the while condition is true:"
      ]
    },
    {
      "cell_type": "code",
      "execution_count": null,
      "metadata": {
        "id": "Y-Qg_GyWrW4P",
        "outputId": "8418941f-b790-4b9e-a173-ae07a0ef36d1"
      },
      "outputs": [
        {
          "name": "stdout",
          "output_type": "stream",
          "text": [
            "g\n",
            "r\n",
            "o\n",
            "Out of for loop\n",
            "\n"
          ]
        }
      ],
      "source": [
        "s = 'growthschool'\n",
        "# Using for loop \n",
        "for letter in s: \n",
        "    \n",
        "    print(letter) \n",
        "    # break the loop as soon it sees 'e' \n",
        "    # or 's' \n",
        "    if letter == 'o' or letter == 't': \n",
        "        break\n",
        "    \n",
        "print(\"Out of for loop\") \n",
        "print() "
      ]
    },
    {
      "cell_type": "markdown",
      "metadata": {
        "id": "p-U8dnFUrW4P"
      },
      "source": [
        "### The continue Statement\n",
        "With the continue statement we can stop the current iteration, and continue with the next:"
      ]
    },
    {
      "cell_type": "code",
      "execution_count": null,
      "metadata": {
        "id": "NrrZ4ConrW4Q",
        "outputId": "f673eaf1-82cc-483d-f787-1c19578dcaa2"
      },
      "outputs": [
        {
          "name": "stdout",
          "output_type": "stream",
          "text": [
            "1 2 3 4 5 7 8 9 10 "
          ]
        }
      ],
      "source": [
        "for i in range(1, 11): \n",
        "    \n",
        "    # If i is equals to 6,   \n",
        "    # continue to next iteration   \n",
        "    # without printing  \n",
        "    if i == 6: \n",
        "        continue\n",
        "    else: \n",
        "        # otherwise print the value \n",
        "        # of i \n",
        "        print(i, end = \" \")"
      ]
    },
    {
      "cell_type": "markdown",
      "metadata": {
        "id": "Sqq3TvS1rW4Q"
      },
      "source": [
        "### The else Statement\n",
        "With the else statement we can run a block of code once when the condition no longer is true:"
      ]
    },
    {
      "cell_type": "code",
      "execution_count": null,
      "metadata": {
        "id": "dk_f11LErW4R",
        "outputId": "253d374e-cba7-4e64-fb94-b2705b25308d"
      },
      "outputs": [
        {
          "name": "stdout",
          "output_type": "stream",
          "text": [
            "1\n",
            "2\n",
            "3\n",
            "4\n",
            "5\n",
            "i is no longer less than 6\n"
          ]
        }
      ],
      "source": [
        "i = 1\n",
        "while i < 6:\n",
        "  print(i)\n",
        "  i += 1\n",
        "else:\n",
        "  print(\"i is no longer less than 6\")"
      ]
    },
    {
      "cell_type": "markdown",
      "metadata": {
        "id": "MPXLy6TYrW4R"
      },
      "source": [
        "# Python For Loops\n",
        "A for loop is used for iterating over a sequence (that is either a list, a tuple, a dictionary, a set, or a string).\n",
        "\n",
        "The for loop does not require an indexing variable to set beforehand.\n",
        "\n",
        "\n",
        "### The pass Statement\n",
        "for loops cannot be empty, but if you for some reason have a for loop with no content, put in the pass statement to avoid getting an error.\n",
        "\n",
        "for x in [\"apple\", \"banana\", \"cherry\"]:\n",
        "    \n",
        "    pass"
      ]
    },
    {
      "cell_type": "markdown",
      "metadata": {
        "id": "buatWG51rW4R"
      },
      "source": [
        "### The range() Function\n",
        "To loop through a set of code a specified number of times, we can use the range() function,\n",
        "The range() function returns a sequence of numbers, starting from 0 by default, and increments by 1 (by default), and ends at a specified number.\n",
        "\n",
        "range(start, end, step) : end is not included"
      ]
    },
    {
      "cell_type": "markdown",
      "metadata": {
        "id": "D9MYFAY0rW4S"
      },
      "source": [
        "### Nested Loops\n",
        "A nested loop is a loop inside a loop.\n",
        "\n",
        "The \"inner loop\" will be executed one time for each iteration of the \"outer loop\":"
      ]
    },
    {
      "cell_type": "code",
      "execution_count": null,
      "metadata": {
        "id": "dTUOINUfrW4S",
        "outputId": "2cc457d7-408a-4a08-de47-bb668a8c5f89"
      },
      "outputs": [
        {
          "name": "stdout",
          "output_type": "stream",
          "text": [
            "red apple\n",
            "red banana\n",
            "red cherry\n",
            "big apple\n",
            "big banana\n",
            "big cherry\n",
            "tasty apple\n",
            "tasty banana\n",
            "tasty cherry\n"
          ]
        }
      ],
      "source": [
        "adj = [\"red\", \"big\", \"tasty\"]\n",
        "fruits = [\"apple\", \"banana\", \"cherry\"]\n",
        "\n",
        "for x in adj:\n",
        "  for y in fruits:\n",
        "    print(x, y)"
      ]
    },
    {
      "cell_type": "markdown",
      "metadata": {
        "id": "PtPBi87BrW4T"
      },
      "source": [
        "# Python - List Comprehension\n",
        "List comprehension offers a shorter syntax when you want to create a new list based on the values of an existing list."
      ]
    },
    {
      "cell_type": "code",
      "execution_count": null,
      "metadata": {
        "id": "EehHv4hurW4T",
        "outputId": "e4edf58f-8906-4f0e-a901-4a6bf091ce5f"
      },
      "outputs": [
        {
          "name": "stdout",
          "output_type": "stream",
          "text": [
            "['apple', 'banana', 'mango']\n"
          ]
        }
      ],
      "source": [
        "fruits = [\"apple\", \"banana\", \"cherry\", \"kiwi\", \"mango\"]\n",
        "newlist = []\n",
        "\n",
        "for x in fruits:\n",
        "  if \"a\" in x:\n",
        "    newlist.append(x)\n",
        "\n",
        "print(newlist)"
      ]
    },
    {
      "cell_type": "code",
      "execution_count": null,
      "metadata": {
        "id": "91z6dXBOrW4U",
        "outputId": "b937ff5a-1a88-4dbb-aefb-79dc13dcbdc4"
      },
      "outputs": [
        {
          "name": "stdout",
          "output_type": "stream",
          "text": [
            "['apple', 'banana', 'mango']\n"
          ]
        }
      ],
      "source": [
        "fruits = [\"apple\", \"banana\", \"cherry\", \"kiwi\", \"mango\"]\n",
        "\n",
        "newlist = [x for x in fruits if \"a\" in x]\n",
        "\n",
        "print(newlist)"
      ]
    },
    {
      "cell_type": "markdown",
      "metadata": {
        "id": "d3AuPNVFrW4U"
      },
      "source": [
        "### Syntax\n",
        "newlist = [expression for item in iterable if condition == True]"
      ]
    },
    {
      "cell_type": "code",
      "execution_count": null,
      "metadata": {
        "id": "vfpw2eshrW4U",
        "outputId": "1dae19c2-f73e-4644-c74e-bfe2b4ac3850"
      },
      "outputs": [
        {
          "name": "stdout",
          "output_type": "stream",
          "text": [
            "['BANANA', 'CHERRY', 'KIWI', 'MANGO']\n"
          ]
        }
      ],
      "source": [
        "fruits = [\"apple\", \"banana\", \"cherry\", \"kiwi\", \"mango\"]\n",
        "\n",
        "newlist = [x.upper() for x in fruits if x != \"apple\"]\n",
        "\n",
        "print(newlist)"
      ]
    },
    {
      "cell_type": "markdown",
      "metadata": {
        "id": "cZ8vYlQ6rW4V"
      },
      "source": [
        "# Dictionary Comprehension\n",
        "Dictionary comprehension is an elegant and concise way to create dictionaries."
      ]
    },
    {
      "cell_type": "code",
      "execution_count": null,
      "metadata": {
        "id": "fskTUKgsrW4V",
        "outputId": "7887265e-a23d-4624-8061-7b329afb61c1"
      },
      "outputs": [
        {
          "name": "stdout",
          "output_type": "stream",
          "text": [
            "{1: 1, 2: 4, 3: 9, 4: 16, 5: 25, 6: 36, 7: 49, 8: 64, 9: 81, 10: 100}\n"
          ]
        }
      ],
      "source": [
        "square_dict = dict()\n",
        "for num in range(1, 11):\n",
        "    square_dict[num] = num*num\n",
        "print(square_dict)"
      ]
    },
    {
      "cell_type": "code",
      "execution_count": null,
      "metadata": {
        "id": "i8iVKt9drW4W",
        "outputId": "e72543bf-4128-40d5-f086-c51adf07721e"
      },
      "outputs": [
        {
          "name": "stdout",
          "output_type": "stream",
          "text": [
            "{1: 1, 2: 4, 3: 9, 4: 16, 5: 25, 6: 36, 7: 49, 8: 64, 9: 81, 10: 100}\n"
          ]
        }
      ],
      "source": [
        "# dictionary comprehension example\n",
        "square_dict = {num: num*num for num in range(1, 11)}\n",
        "print(square_dict)"
      ]
    },
    {
      "cell_type": "markdown",
      "metadata": {
        "id": "f0d9GrXvrW4X"
      },
      "source": [
        "### Syntax\n",
        "dictionary = {key: value for vars in iterable}"
      ]
    },
    {
      "cell_type": "code",
      "execution_count": null,
      "metadata": {
        "id": "AnlLGmD7rW4X",
        "outputId": "7375f12b-da7c-40fe-ea29-e2d0514f0394"
      },
      "outputs": [
        {
          "name": "stdout",
          "output_type": "stream",
          "text": [
            "{'milk': 0.7752, 'coffee': 1.9, 'bread': 1.9}\n"
          ]
        }
      ],
      "source": [
        "old_price = {'milk': 1.02, 'coffee': 2.5, 'bread': 2.5}\n",
        "\n",
        "dollar_to_pound = 0.76\n",
        "new_price = {item: value*dollar_to_pound for (item, value) in old_price.items()}\n",
        "print(new_price)"
      ]
    },
    {
      "cell_type": "markdown",
      "metadata": {
        "id": "9OiK55F5rW4X"
      },
      "source": [
        "______________"
      ]
    },
    {
      "cell_type": "code",
      "execution_count": null,
      "metadata": {
        "id": "CaUK45HQrW4Y"
      },
      "outputs": [],
      "source": []
    }
  ],
  "metadata": {
    "kernelspec": {
      "display_name": "Python 3.10.5 64-bit",
      "language": "python",
      "name": "python3"
    },
    "language_info": {
      "codemirror_mode": {
        "name": "ipython",
        "version": 3
      },
      "file_extension": ".py",
      "mimetype": "text/x-python",
      "name": "python",
      "nbconvert_exporter": "python",
      "pygments_lexer": "ipython3",
      "version": "3.10.5"
    },
    "vscode": {
      "interpreter": {
        "hash": "faa362395b4e21d0f13e558e4f10ef7d54897f3f2b9f77fef9743fbd08f4088e"
      }
    },
    "colab": {
      "provenance": [],
      "include_colab_link": true
    }
  },
  "nbformat": 4,
  "nbformat_minor": 0
}